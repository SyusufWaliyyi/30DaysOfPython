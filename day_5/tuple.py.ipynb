{
 "cells": [
  {
   "cell_type": "markdown",
   "metadata": {},
   "source": [
    "__# Day 5: 30 Days of python programming: TUPLE__"
   ]
  },
  {
   "cell_type": "markdown",
   "metadata": {},
   "source": [
    "# __Tuple Excercise__\n",
    "## Excercise level 1 "
   ]
  },
  {
   "cell_type": "markdown",
   "metadata": {},
   "source": [
    "Q1 creating an empty tuple"
   ]
  },
  {
   "cell_type": "code",
   "execution_count": 17,
   "metadata": {},
   "outputs": [
    {
     "name": "stdout",
     "output_type": "stream",
     "text": [
      "empty typle ()\n"
     ]
    },
    {
     "data": {
      "text/plain": [
       "tuple"
      ]
     },
     "execution_count": 17,
     "metadata": {},
     "output_type": "execute_result"
    }
   ],
   "source": [
    "Empty_Tuple = ()\n",
    "print('empty typle', Empty_Tuple)\n",
    "type(Empty_Tuple)"
   ]
  },
  {
   "cell_type": "markdown",
   "metadata": {},
   "source": [
    "Q2 Creating a tuple containing names"
   ]
  },
  {
   "cell_type": "code",
   "execution_count": 18,
   "metadata": {},
   "outputs": [
    {
     "name": "stdout",
     "output_type": "stream",
     "text": [
      "('Shamsuddeen', 'Salisu', 'Adamu', 'Saluhu', 'Najib')\n",
      "('Shamsiyya', 'Firdausi', 'Zahra', 'Rukayya', 'Sahura')\n"
     ]
    }
   ],
   "source": [
    "brothers = ('Shamsuddeen', 'Salisu', 'Adamu', 'Saluhu', 'Najib')\n",
    "sisters = ('Shamsiyya', 'Firdausi', 'Zahra', 'Rukayya', 'Sahura')\n",
    "\n",
    "print(brothers)\n",
    "print(sisters)\n"
   ]
  },
  {
   "cell_type": "markdown",
   "metadata": {},
   "source": [
    "Q3 Joining brothers and sisters (+)"
   ]
  },
  {
   "cell_type": "code",
   "execution_count": 19,
   "metadata": {},
   "outputs": [
    {
     "name": "stdout",
     "output_type": "stream",
     "text": [
      "Brothers are  ('Shamsuddeen', 'Salisu', 'Adamu', 'Saluhu', 'Najib')\n",
      "Sister are  ('Shamsiyya', 'Firdausi', 'Zahra', 'Rukayya', 'Sahura')\n",
      "Siblins are ('Shamsuddeen', 'Salisu', 'Adamu', 'Saluhu', 'Najib', 'Shamsiyya', 'Firdausi', 'Zahra', 'Rukayya', 'Sahura')\n"
     ]
    }
   ],
   "source": [
    "print('Brothers are ',brothers)\n",
    "print('Sister are ',sisters)\n",
    "siblings = brothers + sisters\n",
    "print('Siblins are',siblings)"
   ]
  },
  {
   "cell_type": "markdown",
   "metadata": {},
   "source": [
    "Q4 number of siblings using the len function "
   ]
  },
  {
   "cell_type": "code",
   "execution_count": 20,
   "metadata": {},
   "outputs": [
    {
     "name": "stdout",
     "output_type": "stream",
     "text": [
      "The number of brothers =  5\n",
      "The number of sisters =  5\n",
      "The number of siblings =  10\n"
     ]
    }
   ],
   "source": [
    "print('The number of brothers = ',len(brothers))\n",
    "print('The number of sisters = ',len(sisters))\n",
    "print('The number of siblings = ',len(siblings))"
   ]
  },
  {
   "cell_type": "markdown",
   "metadata": {},
   "source": [
    "Q 5a Modyfying the tuple\n",
    "#### Remember tuple are immutable meaning one cant append additional element, however there are two ways to go about, either by creating another tuple and join them or by converting the tuple to list and append the additional element"
   ]
  },
  {
   "cell_type": "code",
   "execution_count": 21,
   "metadata": {},
   "outputs": [
    {
     "name": "stdout",
     "output_type": "stream",
     "text": [
      "The children are: ('Shamsuddeen', 'Salisu', 'Adamu', 'Saluhu', 'Najib', 'Shamsiyya', 'Firdausi', 'Zahra', 'Rukayya', 'Sahura')\n",
      "Parent to be modify: ('Yusuf', \"Asma'u\")\n",
      "Members of the family: ('Shamsuddeen', 'Salisu', 'Adamu', 'Saluhu', 'Najib', 'Shamsiyya', 'Firdausi', 'Zahra', 'Rukayya', 'Sahura', 'Yusuf', \"Asma'u\")\n"
     ]
    }
   ],
   "source": [
    "print('The children are:',siblings)\n",
    "parent = ('Yusuf',\"Asma'u\")\n",
    "family_members = siblings + parent\n",
    "print('Parent to be modify:',parent)\n",
    "print('Members of the family:',family_members)"
   ]
  },
  {
   "cell_type": "markdown",
   "metadata": {},
   "source": [
    "Q5b the other way is to convert the tuple to list and append the parent"
   ]
  },
  {
   "cell_type": "code",
   "execution_count": 22,
   "metadata": {},
   "outputs": [
    {
     "name": "stdout",
     "output_type": "stream",
     "text": [
      "['Shamsuddeen', 'Salisu', 'Adamu', 'Saluhu', 'Najib', 'Shamsiyya', 'Firdausi', 'Zahra', 'Rukayya', 'Sahura']\n",
      "['Shamsuddeen', 'Salisu', 'Adamu', 'Saluhu', 'Najib', 'Shamsiyya', 'Firdausi', 'Zahra', 'Rukayya', 'Sahura', 'Yusuf', 'Asma\"u']\n",
      "('Shamsuddeen', 'Salisu', 'Adamu', 'Saluhu', 'Najib', 'Shamsiyya', 'Firdausi', 'Zahra', 'Rukayya', 'Sahura', 'Yusuf', 'Asma\"u')\n"
     ]
    }
   ],
   "source": [
    "siblings_list = list(siblings)\n",
    "print(siblings_list)\n",
    "siblings_list.append('Yusuf')\n",
    "siblings_list.append('Asma\"u')\n",
    "print(siblings_list)\n",
    "family_members1 = tuple(siblings_list)\n",
    "print(family_members1)"
   ]
  },
  {
   "cell_type": "markdown",
   "metadata": {},
   "source": [
    "__## Excercise level 2__"
   ]
  },
  {
   "cell_type": "markdown",
   "metadata": {},
   "source": [
    "Q 1a unpacking parent from the family members"
   ]
  },
  {
   "cell_type": "code",
   "execution_count": 23,
   "metadata": {},
   "outputs": [
    {
     "name": "stdout",
     "output_type": "stream",
     "text": [
      "The parent are:  ('Yusuf', \"Asma'u\")\n"
     ]
    }
   ],
   "source": [
    "parent1 = family_members[-2:]\n",
    "print('The parent are: ',parent1)"
   ]
  },
  {
   "cell_type": "markdown",
   "metadata": {},
   "source": [
    "Q1b unpacking siblings from the family members"
   ]
  },
  {
   "cell_type": "code",
   "execution_count": 24,
   "metadata": {},
   "outputs": [
    {
     "name": "stdout",
     "output_type": "stream",
     "text": [
      "The siblings are:  ('Shamsuddeen', 'Salisu', 'Adamu', 'Saluhu', 'Najib', 'Shamsiyya', 'Firdausi', 'Zahra', 'Rukayya', 'Sahura')\n"
     ]
    }
   ],
   "source": [
    "siblings1 = family_members[:-2]\n",
    "print('The siblings are: ',siblings1)"
   ]
  },
  {
   "cell_type": "markdown",
   "metadata": {},
   "source": [
    "Q2 Creating a tuple of fruits, vegetables and animal products"
   ]
  },
  {
   "cell_type": "code",
   "execution_count": 25,
   "metadata": {},
   "outputs": [
    {
     "name": "stdout",
     "output_type": "stream",
     "text": [
      "The fruits are: ('orange', 'mango', 'guava', 'cashew')\n",
      "The vegetables are: ('cabbage', 'legumes', 'lattuce', 'moringa')\n",
      "The aninamal products are: ('beef', 'fat', 'skin', 'mutton')\n"
     ]
    }
   ],
   "source": [
    "fruit = ('orange', 'mango', 'guava', 'cashew')\n",
    "vegetable = ('cabbage', 'legumes', 'lattuce', 'moringa')\n",
    "animal_products = ('beef', 'fat', 'skin', 'mutton')\n",
    "\n",
    "print('The fruits are:', fruit)\n",
    "print('The vegetables are:', vegetable)\n",
    "print('The aninamal products are:', animal_products)"
   ]
  },
  {
   "cell_type": "markdown",
   "metadata": {},
   "source": [
    "Q 2b Joining the above tuples and assign to a variable food_stuff_tp"
   ]
  },
  {
   "cell_type": "code",
   "execution_count": 26,
   "metadata": {},
   "outputs": [
    {
     "name": "stdout",
     "output_type": "stream",
     "text": [
      "The fruits are: ('orange', 'mango', 'guava', 'cashew')\n",
      "The vegetables are: ('cabbage', 'legumes', 'lattuce', 'moringa')\n",
      "The aninamal products are: ('beef', 'fat', 'skin', 'mutton')\n",
      "the tuple of the food stuffs are: ('orange', 'mango', 'guava', 'cashew', 'cabbage', 'legumes', 'lattuce', 'moringa', 'beef', 'fat', 'skin', 'mutton')\n"
     ]
    }
   ],
   "source": [
    "print('The fruits are:', fruit)\n",
    "print('The vegetables are:', vegetable)\n",
    "print('The aninamal products are:', animal_products)\n",
    "\n",
    "food_stuff_tp = fruit + vegetable +animal_products\n",
    "\n",
    "print('the tuple of the food stuffs are:', food_stuff_tp)"
   ]
  },
  {
   "cell_type": "markdown",
   "metadata": {},
   "source": [
    "Q3 Changing the food stuff tuple to food stuff list"
   ]
  },
  {
   "cell_type": "code",
   "execution_count": 27,
   "metadata": {},
   "outputs": [
    {
     "name": "stdout",
     "output_type": "stream",
     "text": [
      "the food stuff list : ['orange', 'mango', 'guava', 'cashew', 'cabbage', 'legumes', 'lattuce', 'moringa', 'beef', 'fat', 'skin', 'mutton']\n"
     ]
    }
   ],
   "source": [
    "food_stuff_lt = list(food_stuff_tp)\n",
    "\n",
    "print('the food stuff list :',food_stuff_lt)"
   ]
  },
  {
   "cell_type": "markdown",
   "metadata": {},
   "source": [
    "Q4 slice out let find the length of the list or the tuple"
   ]
  },
  {
   "cell_type": "code",
   "execution_count": 28,
   "metadata": {},
   "outputs": [
    {
     "name": "stdout",
     "output_type": "stream",
     "text": [
      "the length of the tp = 12\n",
      "the length of the lt = 12\n"
     ]
    }
   ],
   "source": [
    "lenght_tp = len(food_stuff_tp)\n",
    "length_lt = len(food_stuff_lt)\n",
    "print('the length of the tp =', lenght_tp)\n",
    "print('the length of the lt =', length_lt)"
   ]
  },
  {
   "cell_type": "markdown",
   "metadata": {},
   "source": [
    "from the length above, the middle items are 6 and 7, they can be slice out using indexing"
   ]
  },
  {
   "cell_type": "code",
   "execution_count": 29,
   "metadata": {},
   "outputs": [
    {
     "name": "stdout",
     "output_type": "stream",
     "text": [
      "The middle items are ['legumes', 'lattuce']\n",
      "The middle items are ('legumes', 'lattuce')\n"
     ]
    }
   ],
   "source": [
    "middle_items = food_stuff_lt[5:7] # for the list\n",
    "middle_items1 = food_stuff_tp[5:7] # for the tuple\n",
    "print('The middle items are',middle_items)\n",
    "print('The middle items are',middle_items1)"
   ]
  },
  {
   "cell_type": "markdown",
   "metadata": {},
   "source": [
    "Q5 Slicing the first three items from the list"
   ]
  },
  {
   "cell_type": "code",
   "execution_count": 30,
   "metadata": {},
   "outputs": [
    {
     "name": "stdout",
     "output_type": "stream",
     "text": [
      "First three items ['orange', 'mango', 'guava']\n"
     ]
    }
   ],
   "source": [
    "First_three_items = food_stuff_lt[:3]\n",
    "print('First three items',First_three_items)"
   ]
  },
  {
   "cell_type": "markdown",
   "metadata": {},
   "source": [
    "Q5b Slicing the last three items from the list"
   ]
  },
  {
   "cell_type": "code",
   "execution_count": 31,
   "metadata": {},
   "outputs": [
    {
     "name": "stdout",
     "output_type": "stream",
     "text": [
      "Last three items ['fat', 'skin', 'mutton']\n"
     ]
    }
   ],
   "source": [
    "Last_three_items = food_stuff_lt[-3:]\n",
    "print('Last three items',Last_three_items)"
   ]
  },
  {
   "cell_type": "markdown",
   "metadata": {},
   "source": [
    "Q6 Deleting the food stuff tuple and checking if it exist"
   ]
  },
  {
   "cell_type": "code",
   "execution_count": 32,
   "metadata": {},
   "outputs": [
    {
     "ename": "NameError",
     "evalue": "name 'food_stuff_tp' is not defined",
     "output_type": "error",
     "traceback": [
      "\u001b[1;31m---------------------------------------------------------------------------\u001b[0m",
      "\u001b[1;31mNameError\u001b[0m                                 Traceback (most recent call last)",
      "Cell \u001b[1;32mIn[32], line 2\u001b[0m\n\u001b[0;32m      1\u001b[0m \u001b[38;5;28;01mdel\u001b[39;00m food_stuff_tp\n\u001b[1;32m----> 2\u001b[0m \u001b[38;5;28mprint\u001b[39m(\u001b[43mfood_stuff_tp\u001b[49m)\n",
      "\u001b[1;31mNameError\u001b[0m: name 'food_stuff_tp' is not defined"
     ]
    }
   ],
   "source": [
    "del food_stuff_tp\n",
    "print(food_stuff_tp)"
   ]
  },
  {
   "cell_type": "markdown",
   "metadata": {},
   "source": [
    "Q 7 checking if Estonia and Iceland are nordic country"
   ]
  },
  {
   "cell_type": "code",
   "execution_count": 10,
   "metadata": {},
   "outputs": [
    {
     "name": "stdout",
     "output_type": "stream",
     "text": [
      "('Denmark', 'Finland', 'Iceland', 'Norway', 'Sweden')\n"
     ]
    }
   ],
   "source": [
    "nordic_countries = ('Denmark', 'Finland','Iceland', 'Norway', 'Sweden')\n",
    "print(nordic_countries)"
   ]
  },
  {
   "cell_type": "markdown",
   "metadata": {},
   "source": [
    "checking for Estonia"
   ]
  },
  {
   "cell_type": "code",
   "execution_count": 11,
   "metadata": {},
   "outputs": [
    {
     "ename": "ValueError",
     "evalue": "'Estonia' is not in list",
     "output_type": "error",
     "traceback": [
      "\u001b[1;31m---------------------------------------------------------------------------\u001b[0m",
      "\u001b[1;31mValueError\u001b[0m                                Traceback (most recent call last)",
      "Cell \u001b[1;32mIn[11], line 4\u001b[0m\n\u001b[0;32m      1\u001b[0m nordic_countries \u001b[38;5;241m=\u001b[39m \u001b[38;5;28mlist\u001b[39m(nordic_countries)\n\u001b[0;32m      2\u001b[0m Estonia \u001b[38;5;241m=\u001b[39m \u001b[38;5;124m'\u001b[39m\u001b[38;5;124mEstonia\u001b[39m\u001b[38;5;124m'\u001b[39m\n\u001b[1;32m----> 4\u001b[0m Estonia \u001b[38;5;241m=\u001b[39m \u001b[43mnordic_countries\u001b[49m\u001b[38;5;241;43m.\u001b[39;49m\u001b[43mindex\u001b[49m\u001b[43m(\u001b[49m\u001b[43mEstonia\u001b[49m\u001b[43m)\u001b[49m\n\u001b[0;32m      5\u001b[0m \u001b[38;5;28mprint\u001b[39m(\u001b[38;5;124m'\u001b[39m\u001b[38;5;124mEstonia exist at index =\u001b[39m\u001b[38;5;124m'\u001b[39m, Estonia)\n",
      "\u001b[1;31mValueError\u001b[0m: 'Estonia' is not in list"
     ]
    }
   ],
   "source": [
    "nordic_countries = list(nordic_countries)\n",
    "Estonia = 'Estonia'\n",
    "\n",
    "Estonia = nordic_countries.index(Estonia)\n",
    "print('Estonia exist at index =', Estonia)"
   ]
  },
  {
   "cell_type": "markdown",
   "metadata": {},
   "source": [
    "checking for Iceland"
   ]
  },
  {
   "cell_type": "code",
   "execution_count": 13,
   "metadata": {},
   "outputs": [
    {
     "name": "stdout",
     "output_type": "stream",
     "text": [
      "Iceland exist at index = 2\n"
     ]
    }
   ],
   "source": [
    "nordic_countries = list(nordic_countries)\n",
    "Iceland = 'Iceland'\n",
    "\n",
    "Iceland = nordic_countries.index('Iceland')\n",
    "print('Iceland exist at index =', Iceland)"
   ]
  }
 ],
 "metadata": {
  "kernelspec": {
   "display_name": "Python 3",
   "language": "python",
   "name": "python3"
  },
  "language_info": {
   "codemirror_mode": {
    "name": "ipython",
    "version": 3
   },
   "file_extension": ".py",
   "mimetype": "text/x-python",
   "name": "python",
   "nbconvert_exporter": "python",
   "pygments_lexer": "ipython3",
   "version": "3.13.0"
  }
 },
 "nbformat": 4,
 "nbformat_minor": 2
}
