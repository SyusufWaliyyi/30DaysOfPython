{
 "cells": [
  {
   "cell_type": "markdown",
   "metadata": {},
   "source": [
    "# __Sets Excercises__"
   ]
  },
  {
   "cell_type": "markdown",
   "metadata": {},
   "source": [
    "Q1 Length of the IT set"
   ]
  },
  {
   "cell_type": "code",
   "execution_count": 7,
   "metadata": {},
   "outputs": [
    {
     "name": "stdout",
     "output_type": "stream",
     "text": [
      "{'Oracle', 'Google', 'IBM', 'Facebook', 'Amazon', 'Apple', 'Microsoft'}\n",
      "The lenghth of the sets:  7\n"
     ]
    }
   ],
   "source": [
    "it_companies = {'Facebook', 'Google', 'Microsoft', 'Apple', 'IBM', 'Oracle', 'Amazon'}\n",
    "print(it_companies)\n",
    "print('The lenghth of the sets: ', len(it_companies))"
   ]
  },
  {
   "cell_type": "markdown",
   "metadata": {},
   "source": [
    "Q2 Adding an element to the IT set"
   ]
  },
  {
   "cell_type": "code",
   "execution_count": 8,
   "metadata": {},
   "outputs": [
    {
     "name": "stdout",
     "output_type": "stream",
     "text": [
      "{'Oracle', 'Google', 'IBM', 'Facebook', 'Amazon', 'Apple', 'Microsoft'}\n",
      "The IT sets are: {'Oracle', 'Google', 'IBM', 'Facebook', 'Amazon', 'Twitter', 'Apple', 'Microsoft'}\n"
     ]
    }
   ],
   "source": [
    "print(it_companies)\n",
    "it_companies.add('Twitter')\n",
    "print('The IT sets are:',it_companies)"
   ]
  },
  {
   "cell_type": "markdown",
   "metadata": {},
   "source": [
    "Q3 adding multiple elements to the IT set"
   ]
  },
  {
   "cell_type": "code",
   "execution_count": 9,
   "metadata": {},
   "outputs": [
    {
     "name": "stdout",
     "output_type": "stream",
     "text": [
      "The IT sets are: {'Oracle', 'Google', 'IBM', 'Facebook', 'Amazon', 'Twitter', 'Apple', 'Microsoft'}\n",
      "The updated IT sets are: {'Oracle', 'Google', 'LinkedIn', 'Apple', 'Microsoft', 'Tesla', 'Amazon', 'Twitter', 'IBM', 'Facebook', 'SpaceX'}\n"
     ]
    }
   ],
   "source": [
    "print('The IT sets are:',it_companies)\n",
    "it_companies.update(['Tesla', 'SpaceX', 'LinkedIn'])\n",
    "print('The updated IT sets are:',it_companies)"
   ]
  },
  {
   "cell_type": "markdown",
   "metadata": {},
   "source": [
    "Q4: remove one IT company from the set"
   ]
  },
  {
   "cell_type": "code",
   "execution_count": 10,
   "metadata": {},
   "outputs": [
    {
     "name": "stdout",
     "output_type": "stream",
     "text": [
      "{'Oracle', 'Google', 'LinkedIn', 'Apple', 'Microsoft', 'Tesla', 'Amazon', 'Twitter', 'IBM', 'Facebook', 'SpaceX'}\n",
      "The updated IT sets are: {'Oracle', 'Google', 'LinkedIn', 'Apple', 'Microsoft', 'Tesla', 'Amazon', 'Twitter', 'IBM', 'SpaceX'}\n"
     ]
    }
   ],
   "source": [
    "print(it_companies)\n",
    "it_companies.remove('Facebook')\n",
    "print('The updated IT sets are:',it_companies)"
   ]
  },
  {
   "cell_type": "markdown",
   "metadata": {},
   "source": [
    "Q5: Differences between remove and discard in a set\n",
    "\n",
    "remove return error if element is not found in   the set while discard does not  return error even if element is not found in the set\n",
    "\n",
    "see the example below"
   ]
  },
  {
   "cell_type": "code",
   "execution_count": 11,
   "metadata": {},
   "outputs": [
    {
     "name": "stdout",
     "output_type": "stream",
     "text": [
      "{2, 4, 6, 8, 12, 14, 16}\n"
     ]
    },
    {
     "ename": "KeyError",
     "evalue": "18",
     "output_type": "error",
     "traceback": [
      "\u001b[1;31m---------------------------------------------------------------------------\u001b[0m",
      "\u001b[1;31mKeyError\u001b[0m                                  Traceback (most recent call last)",
      "Cell \u001b[1;32mIn[11], line 6\u001b[0m\n\u001b[0;32m      3\u001b[0m even_number\u001b[38;5;241m.\u001b[39mremove(\u001b[38;5;241m10\u001b[39m)\n\u001b[0;32m      4\u001b[0m \u001b[38;5;28mprint\u001b[39m(even_number)\n\u001b[1;32m----> 6\u001b[0m \u001b[43meven_number\u001b[49m\u001b[38;5;241;43m.\u001b[39;49m\u001b[43mremove\u001b[49m\u001b[43m(\u001b[49m\u001b[38;5;241;43m18\u001b[39;49m\u001b[43m)\u001b[49m \u001b[38;5;66;03m#This will prompt an error message because 18 is not found in the set\u001b[39;00m\n\u001b[0;32m      8\u001b[0m \u001b[38;5;28mprint\u001b[39m(even_number)\n",
      "\u001b[1;31mKeyError\u001b[0m: 18"
     ]
    }
   ],
   "source": [
    "even_number = {2 ,4 ,6, 8, 10,  12, 14, 16}\n",
    "\n",
    "even_number.remove(10)\n",
    "print(even_number)\n",
    "\n",
    "even_number.remove(18) #This will prompt an error message because 18 is not found in the set\n",
    "\n",
    "print(even_number)"
   ]
  },
  {
   "cell_type": "code",
   "execution_count": 9,
   "metadata": {},
   "outputs": [
    {
     "name": "stdout",
     "output_type": "stream",
     "text": [
      "{2, 4, 6, 12, 14, 16}\n"
     ]
    }
   ],
   "source": [
    "even_number.discard(8)\n",
    "\n",
    "even_number.discard(18)  #This will not prompt an error message although 18 is not found in the set\n",
    "print(even_number)"
   ]
  },
  {
   "cell_type": "markdown",
   "metadata": {},
   "source": [
    "__# SET LEVEL 2__"
   ]
  },
  {
   "cell_type": "markdown",
   "metadata": {},
   "source": [
    "Q1: Joining (union) set A and set B"
   ]
  },
  {
   "cell_type": "code",
   "execution_count": 66,
   "metadata": {},
   "outputs": [
    {
     "name": "stdout",
     "output_type": "stream",
     "text": [
      "The set A: {19, 20, 22, 24, 25, 26}\n",
      "The set B: {19, 20, 22, 24, 25, 26, 27, 28}\n",
      "The union of A and B is: {19, 20, 22, 24, 25, 26, 27, 28}\n"
     ]
    }
   ],
   "source": [
    "A = {19, 22, 24, 20, 25, 26}\n",
    "B = {19, 22, 20, 25, 26, 24, 28, 27}\n",
    "\n",
    "print('The set A:', A)\n",
    "print('The set B:', B)\n",
    "\n",
    "print('The union of A and B is:', A.union(B))"
   ]
  },
  {
   "cell_type": "markdown",
   "metadata": {},
   "source": [
    "Q2: Intersection of A and B"
   ]
  },
  {
   "cell_type": "code",
   "execution_count": 67,
   "metadata": {},
   "outputs": [
    {
     "name": "stdout",
     "output_type": "stream",
     "text": [
      "The set A: {19, 20, 22, 24, 25, 26}\n",
      "The set B: {19, 20, 22, 24, 25, 26, 27, 28}\n",
      "The intersection of A and B is: {19, 20, 22, 24, 25, 26}\n"
     ]
    }
   ],
   "source": [
    "A = {19, 22, 24, 20, 25, 26}\n",
    "B = {19, 22, 20, 25, 26, 24, 28, 27}\n",
    "\n",
    "print('The set A:', A)\n",
    "print('The set B:', B)\n",
    "\n",
    "print('The intersection of A and B is:', A.intersection(B))\n"
   ]
  },
  {
   "cell_type": "markdown",
   "metadata": {},
   "source": [
    "Q3: Is A subset of B"
   ]
  },
  {
   "cell_type": "code",
   "execution_count": 68,
   "metadata": {},
   "outputs": [
    {
     "name": "stdout",
     "output_type": "stream",
     "text": [
      "The set A: {19, 20, 22, 24, 25, 26}\n",
      "The set B: {19, 20, 22, 24, 25, 26, 27, 28}\n",
      "is A subset of B? True\n"
     ]
    }
   ],
   "source": [
    "A = {19, 22, 24, 20, 25, 26}\n",
    "B = {19, 22, 20, 25, 26, 24, 28, 27}\n",
    "\n",
    "print('The set A:', A)\n",
    "print('The set B:', B)\n",
    "\n",
    "print('is A subset of B?', A.issubset(B))"
   ]
  },
  {
   "cell_type": "markdown",
   "metadata": {},
   "source": [
    "Q5: Are A and B disjoint sets"
   ]
  },
  {
   "cell_type": "code",
   "execution_count": 69,
   "metadata": {},
   "outputs": [
    {
     "name": "stdout",
     "output_type": "stream",
     "text": [
      "The set A: {19, 20, 22, 24, 25, 26}\n",
      "The set B: {19, 20, 22, 24, 25, 26, 27, 28}\n",
      "Are A and B disjoint? False\n"
     ]
    }
   ],
   "source": [
    "A = {19, 22, 24, 20, 25, 26}\n",
    "B = {19, 22, 20, 25, 26, 24, 28, 27}\n",
    "\n",
    "print('The set A:', A)\n",
    "print('The set B:', B)\n",
    "\n",
    "print('Are A and B disjoint?', A.isdisjoint(B))"
   ]
  },
  {
   "cell_type": "markdown",
   "metadata": {},
   "source": [
    "Q5: Join A with B and B with A"
   ]
  },
  {
   "cell_type": "code",
   "execution_count": 70,
   "metadata": {},
   "outputs": [
    {
     "name": "stdout",
     "output_type": "stream",
     "text": [
      "The set A: {19, 20, 22, 24, 25, 26}\n",
      "The set B: {19, 20, 22, 24, 25, 26, 27, 28}\n",
      "Joing A With B: {19, 20, 22, 24, 25, 26, 27, 28}\n",
      "Joining B with A: {19, 20, 22, 24, 25, 26, 27, 28}\n"
     ]
    }
   ],
   "source": [
    "A = {19, 22, 24, 20, 25, 26}\n",
    "B = {19, 22, 20, 25, 26, 24, 28, 27}\n",
    "\n",
    "print('The set A:', A)\n",
    "print('The set B:', B)\n",
    "\n",
    "print('Joing A With B:', A.union(B))\n",
    "print('Joining B with A:', B.union(A))"
   ]
  },
  {
   "cell_type": "markdown",
   "metadata": {},
   "source": [
    "Q6: What is the symmetric difference between A and B"
   ]
  },
  {
   "cell_type": "code",
   "execution_count": 71,
   "metadata": {},
   "outputs": [
    {
     "name": "stdout",
     "output_type": "stream",
     "text": [
      "The set A: {19, 20, 22, 24, 25, 26}\n",
      "The set B: {19, 20, 22, 24, 25, 26, 27, 28}\n",
      "The difference between A and B: set()\n",
      "The difference between B and A: {27, 28}\n"
     ]
    }
   ],
   "source": [
    "A = {19, 22, 24, 20, 25, 26}\n",
    "B = {19, 22, 20, 25, 26, 24, 28, 27}\n",
    "\n",
    "print('The set A:', A)\n",
    "print('The set B:', B)\n",
    "\n",
    "print('The difference between A and B:', A.difference(B))\n",
    "print('The difference between B and A:', B.difference(A))"
   ]
  },
  {
   "cell_type": "markdown",
   "metadata": {},
   "source": [
    "Q7: Delete the sets completely"
   ]
  },
  {
   "cell_type": "code",
   "execution_count": 72,
   "metadata": {},
   "outputs": [
    {
     "ename": "NameError",
     "evalue": "name 'A' is not defined",
     "output_type": "error",
     "traceback": [
      "\u001b[1;31m---------------------------------------------------------------------------\u001b[0m",
      "\u001b[1;31mNameError\u001b[0m                                 Traceback (most recent call last)",
      "Cell \u001b[1;32mIn[72], line 8\u001b[0m\n\u001b[0;32m      5\u001b[0m \u001b[38;5;28;01mdel\u001b[39;00m A\n\u001b[0;32m      6\u001b[0m \u001b[38;5;28;01mdel\u001b[39;00m B\n\u001b[1;32m----> 8\u001b[0m \u001b[38;5;28mprint\u001b[39m(\u001b[38;5;124m'\u001b[39m\u001b[38;5;124mThe set A after deletion:\u001b[39m\u001b[38;5;124m'\u001b[39m, \u001b[43mA\u001b[49m)\n\u001b[0;32m      9\u001b[0m \u001b[38;5;28mprint\u001b[39m(\u001b[38;5;124m'\u001b[39m\u001b[38;5;124mThe set B after deletion:\u001b[39m\u001b[38;5;124m'\u001b[39m, B)\n",
      "\u001b[1;31mNameError\u001b[0m: name 'A' is not defined"
     ]
    }
   ],
   "source": [
    "A = {19, 22, 24, 20, 25, 26}\n",
    "B = {19, 22, 20, 25, 26, 24, 28, 27}\n",
    "\n",
    "\n",
    "del A\n",
    "del B\n",
    "\n",
    "print('The set A after deletion:', A)\n",
    "print('The set B after deletion:', B)"
   ]
  },
  {
   "cell_type": "markdown",
   "metadata": {},
   "source": [
    "__# Sets Exercises: Level 3__"
   ]
  },
  {
   "cell_type": "markdown",
   "metadata": {},
   "source": [
    "Q1: Convert the ages to a set and compare the length of the list and the set, which one is bigger?"
   ]
  },
  {
   "cell_type": "code",
   "execution_count": null,
   "metadata": {},
   "outputs": [
    {
     "name": "stdout",
     "output_type": "stream",
     "text": [
      "The list is: [22, 19, 24, 25, 26, 24, 25, 24]\n",
      "The set is: {19, 22, 24, 25, 26}\n",
      "The length of the list is: 8\n",
      "the length of the set is: 5\n",
      "Is the length of the list greater than the length of the set? True\n"
     ]
    }
   ],
   "source": [
    "age = [22, 19, 24, 25, 26, 24, 25, 24]\n",
    "print('The list is:', age)\n",
    "AGE = (set(age))\n",
    "print('The set is:',AGE)\n",
    "\n",
    "print('The length of the list is:', len(age))\n",
    "print('the length of the set is:', len(AGE))\n",
    "\n",
    "print('Is the length of the list greater than the length of the set?', len(AGE) < len(age))"
   ]
  },
  {
   "cell_type": "markdown",
   "metadata": {},
   "source": [
    "Q2: Explain the difference between the following data types: string, list, tuple and se"
   ]
  },
  {
   "cell_type": "markdown",
   "metadata": {},
   "source": [
    "| Data Type | Ordered | Mutable | Duplicates | Indexing | Syntax |\n",
    "| --- | --- | --- | --- | --- | --- |\n",
    "| String | Yes | No | Yes | Yes | \"hello\" |\n",
    "| List | Yes | Yes | Yes | Yes | [1, 2, 3] |\n",
    "| Tuple | Yes | No | Yes | Yes | (1, 2, 3) |\n",
    "| Set | No | Yes | No | No | {1, 2, 3} |"
   ]
  },
  {
   "cell_type": "markdown",
   "metadata": {},
   "source": [
    "Q3: I am a teacher and I love to inspire and teach people. How many unique words have been used in the sentence? Use the split methods and set to get the unique words"
   ]
  },
  {
   "cell_type": "code",
   "execution_count": 15,
   "metadata": {},
   "outputs": [
    {
     "name": "stdout",
     "output_type": "stream",
     "text": [
      "Unique words: {'teach', 'teacher', 'people', 'and', 'love', 'inspire', 'to', 'i', 'a', 'am'}\n",
      "Number of unique words: 10\n"
     ]
    }
   ],
   "source": [
    "Teacher = \"I am a teacher and I love to inspire and teach people.\"\n",
    "\n",
    "# Split the sentence into words\n",
    "words = Teacher.split()\n",
    "\n",
    "# Convert to lowercase and remove punctuation\n",
    "words = [''.join(e for e in word if e.isalnum()).lower() for word in words]\n",
    "\n",
    "# Use set to find unique words\n",
    "unique_words = set(words)\n",
    "\n",
    "print(\"Unique words:\", unique_words)\n",
    "print(\"Number of unique words:\", len(unique_words))"
   ]
  }
 ],
 "metadata": {
  "kernelspec": {
   "display_name": "Python 3",
   "language": "python",
   "name": "python3"
  },
  "language_info": {
   "codemirror_mode": {
    "name": "ipython",
    "version": 3
   },
   "file_extension": ".py",
   "mimetype": "text/x-python",
   "name": "python",
   "nbconvert_exporter": "python",
   "pygments_lexer": "ipython3",
   "version": "3.13.0"
  }
 },
 "nbformat": 4,
 "nbformat_minor": 2
}
