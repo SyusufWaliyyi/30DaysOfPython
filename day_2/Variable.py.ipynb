{
 "cells": [
  {
   "cell_type": "markdown",
   "metadata": {},
   "source": [
    "## __Day 2: 30 Days of python programming__"
   ]
  },
  {
   "cell_type": "markdown",
   "metadata": {},
   "source": [
    "# __Excercise 2 Level 1 "
   ]
  },
  {
   "cell_type": "markdown",
   "metadata": {},
   "source": [
    "Q 3, 4 and 5 "
   ]
  },
  {
   "cell_type": "code",
   "execution_count": 22,
   "metadata": {},
   "outputs": [
    {
     "name": "stdout",
     "output_type": "stream",
     "text": [
      "My first name is:  Shamsuddeen\n",
      "My last name is:  Yusuf\n",
      "My full name is:  Shamsuddeen Yusuf\n"
     ]
    }
   ],
   "source": [
    "First_Name = 'Shamsuddeen'\n",
    "Last_Name = 'Yusuf'\n",
    "Full_name = 'Shamsuddeen Yusuf'\n",
    "\n",
    "print('My first name is: ',First_Name)\n",
    "print('My last name is: ',Last_Name)\n",
    "print('My full name is: ',Full_name)"
   ]
  },
  {
   "cell_type": "markdown",
   "metadata": {},
   "source": [
    "Q 6 and 7"
   ]
  },
  {
   "cell_type": "code",
   "execution_count": 23,
   "metadata": {},
   "outputs": [
    {
     "name": "stdout",
     "output_type": "stream",
     "text": [
      "my country is:  Nigeria\n",
      "my city is:   Doguwa\n"
     ]
    }
   ],
   "source": [
    "country = 'Nigeria'\n",
    "city = 'Doguwa'\n",
    "\n",
    "print('my country is: ', country)\n",
    "print('my city is:  ', city)"
   ]
  },
  {
   "cell_type": "markdown",
   "metadata": {},
   "source": [
    "Q 8 and 9"
   ]
  },
  {
   "cell_type": "code",
   "execution_count": 24,
   "metadata": {},
   "outputs": [
    {
     "name": "stdout",
     "output_type": "stream",
     "text": [
      "my daugter age is:  3.2\n",
      "The unforgetable year in my life is:  2021\n"
     ]
    }
   ],
   "source": [
    "age = 3.2\n",
    "year = 2021\n",
    "\n",
    "print('my daugter age is: ',age)\n",
    "print('The unforgetable year in my life is: ',year)"
   ]
  },
  {
   "cell_type": "markdown",
   "metadata": {},
   "source": [
    "Q 10, 11 and 12"
   ]
  },
  {
   "cell_type": "code",
   "execution_count": 25,
   "metadata": {},
   "outputs": [
    {
     "name": "stdout",
     "output_type": "stream",
     "text": [
      "Are you married?   Yes I am Married\n",
      "True\n",
      "is the light on?   yes the light is on\n"
     ]
    }
   ],
   "source": [
    "is_married = 'Yes I am Married'\n",
    "is_true = 5>3\n",
    "is_light_on = 'yes the light is on'\n",
    "\n",
    "print('Are you married?  ', is_married)\n",
    "print(is_true)\n",
    "print('is the light on?  ', is_light_on)"
   ]
  },
  {
   "cell_type": "markdown",
   "metadata": {},
   "source": [
    "Question declaring multiple variables in one line"
   ]
  },
  {
   "cell_type": "code",
   "execution_count": 26,
   "metadata": {},
   "outputs": [
    {
     "name": "stdout",
     "output_type": "stream",
     "text": [
      "My name is:   Safiyya\n",
      "My last name is:   Shamsuddeen\n",
      "Therefore my full name is   Safiyya Shamsuddeen\n",
      "My age is 3\n",
      "I was born in:   2021\n",
      "I am a citizen of   Nigeria\n",
      "From the most populous State:  Kano\n"
     ]
    }
   ],
   "source": [
    "First_Name1, Last_Name1, Full_name1, age1, year1, country1, city1 = 'Safiyya', 'Shamsuddeen', 'Safiyya Shamsuddeen', 3, 2021, 'Nigeria', 'Kano'\n",
    "print('My name is:  ',First_Name1)\n",
    "print('My last name is:  ',Last_Name1)\n",
    "print('Therefore my full name is  ',Full_name1)\n",
    "print('My age is' ,age1)\n",
    "print('I was born in:  ',year1)\n",
    "print('I am a citizen of  ',country1)\n",
    "print('From the most populous State: ',city1)"
   ]
  },
  {
   "cell_type": "markdown",
   "metadata": {},
   "source": [
    "# Excercise 2 Level 2"
   ]
  },
  {
   "cell_type": "markdown",
   "metadata": {},
   "source": [
    "Q1"
   ]
  },
  {
   "cell_type": "code",
   "execution_count": 27,
   "metadata": {},
   "outputs": [
    {
     "name": "stdout",
     "output_type": "stream",
     "text": [
      "<class 'str'>\n",
      "<class 'str'>\n",
      "<class 'str'>\n",
      "<class 'str'>\n",
      "<class 'str'>\n",
      "<class 'float'>\n",
      "<class 'int'>\n",
      "<class 'str'>\n",
      "<class 'bool'>\n",
      "<class 'str'>\n",
      "<class 'str'>\n",
      "<class 'str'>\n",
      "<class 'str'>\n",
      "<class 'str'>\n",
      "<class 'str'>\n",
      "<class 'int'>\n",
      "<class 'int'>\n"
     ]
    }
   ],
   "source": [
    "print(type(First_Name))\n",
    "print(type(Last_Name))\n",
    "print(type(Full_name))\n",
    "\n",
    "print(type(country))\n",
    "print(type(city))\n",
    "\n",
    "print(type(age))\n",
    "print(type(year))\n",
    "\n",
    "print(type(is_married))\n",
    "print(type(is_true))\n",
    "print(type(is_light_on))\n",
    "\n",
    "\n",
    "print(type(First_Name1))\n",
    "print(type(Last_Name1))\n",
    "print(type(Full_name1))\n",
    "\n",
    "print(type(country1))\n",
    "print(type(city1))\n",
    "\n",
    "print(type(age1))\n",
    "print(type(year1))"
   ]
  },
  {
   "cell_type": "markdown",
   "metadata": {},
   "source": [
    "Q2\n",
    "### __NOTE__: The data type integer and boolean doesnt have length"
   ]
  },
  {
   "cell_type": "code",
   "execution_count": 28,
   "metadata": {},
   "outputs": [
    {
     "name": "stdout",
     "output_type": "stream",
     "text": [
      "The length of the first name is  11\n",
      "The length of the last name is  5\n",
      "The length of the full name is  17\n",
      "The length of the country is  7\n",
      "The length of the city is  6\n",
      "16\n",
      "19\n",
      "7\n",
      "11\n",
      "19\n",
      "7\n",
      "4\n"
     ]
    }
   ],
   "source": [
    "print('The length of the first name is ',len(First_Name))\n",
    "print('The length of the last name is ',len(Last_Name))\n",
    "print('The length of the full name is ',len(Full_name))\n",
    "\n",
    "print('The length of the country is ',len(country))\n",
    "print('The length of the city is ',len(city))\n",
    "\n",
    "print(len(is_married))\n",
    "print(len(is_light_on))\n",
    "\n",
    "\n",
    "print(len(First_Name1))\n",
    "print(len(Last_Name1))\n",
    "print(len(Full_name1))\n",
    "\n",
    "print(len(country1))\n",
    "print(len(city1))\n"
   ]
  },
  {
   "cell_type": "markdown",
   "metadata": {},
   "source": [
    "Q3\n",
    "### for comparison python uses the following function (==, >=, <=, >, <,!=>)"
   ]
  },
  {
   "cell_type": "code",
   "execution_count": 29,
   "metadata": {},
   "outputs": [
    {
     "name": "stdout",
     "output_type": "stream",
     "text": [
      "The first name is   Shamsuddeen\n",
      "The last name is   Yusuf\n",
      "The length of the first name is 11\n",
      "The length of the last name is 5\n",
      "Is the length of first name and last name equal?   False\n",
      "Is the length of first name not equal to the length of the last name?   True\n",
      "Is the length of first name less than or equal to the lenght of thelast name?   False\n",
      "Is the length of first name greater than or equal to the length of the last name?   True\n",
      "Is the length of first name greater then the length of the last name?   True\n",
      "Is the length of first name less than the length of the last name?   False\n"
     ]
    }
   ],
   "source": [
    "print('The first name is  ',First_Name)\n",
    "print('The last name is  ',Last_Name)\n",
    "\n",
    "print('The length of the first name is', len(First_Name))\n",
    "print('The length of the last name is', len(Last_Name))\n",
    "\n",
    "print('Is the length of first name and last name equal?  ',(len(First_Name)==len(Last_Name)))\n",
    "print('Is the length of first name not equal to the length of the last name?  ',(len(First_Name)!=len(Last_Name)))\n",
    "print('Is the length of first name less than or equal to the lenght of thelast name?  ',(len(First_Name)<=len(Last_Name)))\n",
    "print('Is the length of first name greater than or equal to the length of the last name?  ',(len(First_Name)>=len(Last_Name)))\n",
    "print('Is the length of first name greater then the length of the last name?  ',(len(First_Name)>len(Last_Name)))\n",
    "print('Is the length of first name less than the length of the last name?  ',(len(First_Name)<len(Last_Name)))"
   ]
  },
  {
   "cell_type": "markdown",
   "metadata": {},
   "source": [
    "Declaring num_one and num_two"
   ]
  },
  {
   "cell_type": "code",
   "execution_count": 30,
   "metadata": {},
   "outputs": [
    {
     "name": "stdout",
     "output_type": "stream",
     "text": [
      "The first variable =  5\n",
      "The second varible =  4\n"
     ]
    }
   ],
   "source": [
    "num_one = 5\n",
    "num_two = 4\n",
    "\n",
    "print('The first variable = ',num_one)\n",
    "print('The second varible = ',num_two)\n",
    "\n"
   ]
  },
  {
   "cell_type": "markdown",
   "metadata": {},
   "source": [
    "Sum of the two variable"
   ]
  },
  {
   "cell_type": "code",
   "execution_count": 31,
   "metadata": {},
   "outputs": [
    {
     "name": "stdout",
     "output_type": "stream",
     "text": [
      "The sum of the two variables =  9\n"
     ]
    }
   ],
   "source": [
    "total = num_one + num_two\n",
    "\n",
    "print('The sum of the two variables = ',total)"
   ]
  },
  {
   "cell_type": "markdown",
   "metadata": {},
   "source": [
    "Difference of the two variable"
   ]
  },
  {
   "cell_type": "code",
   "execution_count": 32,
   "metadata": {},
   "outputs": [
    {
     "name": "stdout",
     "output_type": "stream",
     "text": [
      "The different between the two variables is =  1\n"
     ]
    }
   ],
   "source": [
    "diff = num_one - num_two\n",
    "print('The different between the two variables is = ',diff)"
   ]
  },
  {
   "cell_type": "markdown",
   "metadata": {},
   "source": [
    "Product of the variables"
   ]
  },
  {
   "cell_type": "code",
   "execution_count": 33,
   "metadata": {},
   "outputs": [
    {
     "name": "stdout",
     "output_type": "stream",
     "text": [
      "The product of the two variables is =  20\n"
     ]
    }
   ],
   "source": [
    "product = num_one * num_two\n",
    "print('The product of the two variables is = ', product)"
   ]
  },
  {
   "cell_type": "markdown",
   "metadata": {},
   "source": [
    "Division of the two variables"
   ]
  },
  {
   "cell_type": "code",
   "execution_count": 34,
   "metadata": {},
   "outputs": [
    {
     "name": "stdout",
     "output_type": "stream",
     "text": [
      "Dividing num one by num two =  1.25\n"
     ]
    }
   ],
   "source": [
    "division = num_one/num_two\n",
    "print('Dividing num one by num two = ',division)"
   ]
  },
  {
   "cell_type": "markdown",
   "metadata": {},
   "source": [
    "Modulus division"
   ]
  },
  {
   "cell_type": "code",
   "execution_count": 35,
   "metadata": {},
   "outputs": [
    {
     "name": "stdout",
     "output_type": "stream",
     "text": [
      "The remainder =  1\n"
     ]
    }
   ],
   "source": [
    "remainder = num_one % num_two\n",
    "print('The remainder = ', remainder)"
   ]
  },
  {
   "cell_type": "markdown",
   "metadata": {},
   "source": [
    "Floor division "
   ]
  },
  {
   "cell_type": "code",
   "execution_count": 36,
   "metadata": {},
   "outputs": [
    {
     "name": "stdout",
     "output_type": "stream",
     "text": [
      "The floor division result is =  1\n"
     ]
    }
   ],
   "source": [
    "floor_division = num_one//num_two\n",
    "print('The floor division result is = ', floor_division)"
   ]
  },
  {
   "cell_type": "markdown",
   "metadata": {},
   "source": [
    "Computing the area of a circle\n",
    " remeber area of a circle is giving by the relationship, A = pi*r^2"
   ]
  },
  {
   "cell_type": "code",
   "execution_count": 37,
   "metadata": {},
   "outputs": [
    {
     "name": "stdout",
     "output_type": "stream",
     "text": [
      "The radius of the circle 30.0\n",
      "The area of the circle =  2827.7999999999997\n"
     ]
    }
   ],
   "source": [
    "radius = 30.0\n",
    "pi = 3.142\n",
    "print('The radius of the circle', radius)\n",
    "_area_of_circle_ = pi*radius**2\n",
    "print('The area of the circle = ',_area_of_circle_)"
   ]
  },
  {
   "cell_type": "markdown",
   "metadata": {},
   "source": [
    "Circumference of a circle"
   ]
  },
  {
   "cell_type": "code",
   "execution_count": 38,
   "metadata": {},
   "outputs": [
    {
     "name": "stdout",
     "output_type": "stream",
     "text": [
      "The circumference of the circle =  188.51999999999998\n"
     ]
    }
   ],
   "source": [
    "_circum_of_circle_ = 2*pi*radius\n",
    "print('The circumference of the circle = ', _circum_of_circle_)"
   ]
  },
  {
   "cell_type": "markdown",
   "metadata": {},
   "source": [
    "Taking radius as an input and calculate the area of the circle"
   ]
  },
  {
   "cell_type": "code",
   "execution_count": 39,
   "metadata": {},
   "outputs": [
    {
     "name": "stdout",
     "output_type": "stream",
     "text": [
      "The radius of the circle is 30.0\n",
      "The area of the circle =  2827.7999999999997\n"
     ]
    }
   ],
   "source": [
    "radius = float(input('Enter the radius of the circle  '))\n",
    "print('The radius of the circle is',radius)\n",
    "_area_of_circle_ = pi*radius**2\n",
    "print('The area of the circle = ',_area_of_circle_)"
   ]
  },
  {
   "cell_type": "markdown",
   "metadata": {},
   "source": [
    "Getting a user biodata"
   ]
  },
  {
   "cell_type": "code",
   "execution_count": 40,
   "metadata": {},
   "outputs": [
    {
     "name": "stdout",
     "output_type": "stream",
     "text": [
      "My name is  Shamsuddeen\n",
      "My last name is  Yusuf\n",
      "I am an indigine of  Nigeria\n",
      "I am 34 years old\n"
     ]
    }
   ],
   "source": [
    "First_Name = input('Enter your first name ')\n",
    "Last_Name = input('Enter your Last name ')\n",
    "country = input('Enter your Country ')\n",
    "age = int(input('Enter your age '))\n",
    "\n",
    "\n",
    "print('My name is ',First_Name)\n",
    "print('My last name is ',Last_Name)\n",
    "print('I am an indigine of ',country)\n",
    "print('I am', age, 'years old')"
   ]
  },
  {
   "cell_type": "code",
   "execution_count": 41,
   "metadata": {},
   "outputs": [
    {
     "name": "stdout",
     "output_type": "stream",
     "text": [
      "Welcome to Python 3.13's help utility! If this is your first time using\n",
      "Python, you should definitely check out the tutorial at\n",
      "https://docs.python.org/3.13/tutorial/.\n",
      "\n",
      "Enter the name of any module, keyword, or topic to get help on writing\n",
      "Python programs and using Python modules.  To get a list of available\n",
      "modules, keywords, symbols, or topics, enter \"modules\", \"keywords\",\n",
      "\"symbols\", or \"topics\".\n",
      "\n",
      "Each module also comes with a one-line summary of what it does; to list\n",
      "the modules whose name or summary contain a given string such as \"spam\",\n",
      "enter \"modules spam\".\n",
      "\n",
      "To quit this help utility and return to the interpreter,\n",
      "enter \"q\", \"quit\" or \"exit\".\n",
      "\n",
      "\n",
      "You are now leaving help and returning to the Python interpreter.\n",
      "If you want to ask for help on a particular object directly from the\n",
      "interpreter, you can type \"help(object)\".  Executing \"help('string')\"\n",
      "has the same effect as typing a particular string at the help> prompt.\n"
     ]
    }
   ],
   "source": [
    "help()"
   ]
  }
 ],
 "metadata": {
  "kernelspec": {
   "display_name": "Python 3",
   "language": "python",
   "name": "python3"
  },
  "language_info": {
   "codemirror_mode": {
    "name": "ipython",
    "version": 3
   },
   "file_extension": ".py",
   "mimetype": "text/x-python",
   "name": "python",
   "nbconvert_exporter": "python",
   "pygments_lexer": "ipython3",
   "version": "3.13.0"
  }
 },
 "nbformat": 4,
 "nbformat_minor": 2
}
