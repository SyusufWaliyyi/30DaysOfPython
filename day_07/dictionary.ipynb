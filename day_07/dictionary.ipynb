{
 "cells": [
  {
   "cell_type": "markdown",
   "metadata": {},
   "source": [
    "# Exercises: Module 6"
   ]
  },
  {
   "cell_type": "markdown",
   "metadata": {},
   "source": [
    "Q1: Create an empty dictionary called dog"
   ]
  },
  {
   "cell_type": "code",
   "execution_count": 14,
   "metadata": {},
   "outputs": [
    {
     "name": "stdout",
     "output_type": "stream",
     "text": [
      "This is an empty dog dictionary = {}\n"
     ]
    }
   ],
   "source": [
    "dog = {} # Empty dictionary\n",
    "print('This is an empty dog dictionary =',dog)\n"
   ]
  },
  {
   "cell_type": "markdown",
   "metadata": {},
   "source": [
    "Q2: Add name, color, breed, legs, age to the dog dictionary"
   ]
  },
  {
   "cell_type": "code",
   "execution_count": 3,
   "metadata": {},
   "outputs": [
    {
     "name": "stdout",
     "output_type": "stream",
     "text": [
      "The dog dictionary = {'name': 'Trumpy', 'color': 'brown', 'breed': 'Lab', 'legs': 4, 'age': 3}\n"
     ]
    }
   ],
   "source": [
    "dog.update({'name': 'Trumpy', 'color': 'brown', 'breed': 'Lab', 'legs': 4, 'age': 3})\n",
    "print('The dog dictionary =',dog)"
   ]
  },
  {
   "cell_type": "markdown",
   "metadata": {},
   "source": [
    "Q3 Creating the student dictionary"
   ]
  },
  {
   "cell_type": "code",
   "execution_count": 1,
   "metadata": {},
   "outputs": [
    {
     "name": "stdout",
     "output_type": "stream",
     "text": [
      "{'first_name': 'Shamsuddeen', 'last_name': 'Yusuf', 'age': '34', 'country': 'Nigeria', 'is_marred': True, 'skills': ['Reading', 'Research', 'Writing', 'python', 'Matlab', 'Word'], 'address': {'street': 'Hotoro', 'zipcode': '710101'}}\n"
     ]
    }
   ],
   "source": [
    "student={\n",
    "    'first_name': 'Shamsuddeen',\n",
    "    'last_name': 'Yusuf',\n",
    "    'age': '34',\n",
    "    'country': 'Nigeria',\n",
    "    'is_marred': True,\n",
    "    'skills': ['Reading', 'Research', 'Writing', 'python', 'Matlab', 'Word'],\n",
    "    'address': {\n",
    "        'street': 'Hotoro',\n",
    "        'zipcode': '710101'\n",
    "    }\n",
    "    }\n",
    "\n",
    "print(student)"
   ]
  },
  {
   "cell_type": "markdown",
   "metadata": {},
   "source": [
    "Q4 length of student dictionary"
   ]
  },
  {
   "cell_type": "code",
   "execution_count": 5,
   "metadata": {},
   "outputs": [
    {
     "name": "stdout",
     "output_type": "stream",
     "text": [
      "The length of student = 7\n"
     ]
    }
   ],
   "source": [
    "length_Student = len(student)\n",
    "print('The length of student =',length_Student)"
   ]
  },
  {
   "cell_type": "markdown",
   "metadata": {},
   "source": [
    "Q5 Values of skills and the data type"
   ]
  },
  {
   "cell_type": "code",
   "execution_count": 6,
   "metadata": {},
   "outputs": [
    {
     "name": "stdout",
     "output_type": "stream",
     "text": [
      "The skills of the student = ['Reading', 'Research', 'Writing', 'python', 'Matlab', 'Word']\n",
      "The data type of skills = <class 'list'>\n"
     ]
    }
   ],
   "source": [
    "skills = student['skills']\n",
    "print('The skills of the student =',skills)\n",
    "print('The data type of skills =',type(skills))"
   ]
  },
  {
   "cell_type": "markdown",
   "metadata": {},
   "source": [
    "Q6 Modify the skills values by adding one or two skills"
   ]
  },
  {
   "cell_type": "code",
   "execution_count": 7,
   "metadata": {},
   "outputs": [
    {
     "name": "stdout",
     "output_type": "stream",
     "text": [
      "The skills of the student = ['Reading', 'Research', 'Writing', 'python', 'Matlab', 'Word', 'Excel', 'CSTMicrowave']\n"
     ]
    }
   ],
   "source": [
    "skills.append('Excel')\n",
    "skills.append('CSTMicrowave')\n",
    "print('The skills of the student =',skills)"
   ]
  },
  {
   "cell_type": "markdown",
   "metadata": {},
   "source": [
    "Q7 Get the dictionary keys as a list"
   ]
  },
  {
   "cell_type": "code",
   "execution_count": 8,
   "metadata": {},
   "outputs": [
    {
     "name": "stdout",
     "output_type": "stream",
     "text": [
      "The keys of the student = ['first_name', 'last_name', 'age', 'country', 'is_marred', 'skills', 'address']\n",
      "The data type of keys = <class 'list'>\n"
     ]
    }
   ],
   "source": [
    "keys = list(student.keys())\n",
    "print('The keys of the student =',keys)\n",
    "print('The data type of keys =',type(keys))"
   ]
  },
  {
   "cell_type": "markdown",
   "metadata": {},
   "source": [
    "Q8 Get the dictionary values as a list"
   ]
  },
  {
   "cell_type": "code",
   "execution_count": 9,
   "metadata": {},
   "outputs": [
    {
     "name": "stdout",
     "output_type": "stream",
     "text": [
      "The keys of the student = ['Shamsuddeen', 'Yusuf', '34', 'Nigeria', True, ['Reading', 'Research', 'Writing', 'python', 'Matlab', 'Word', 'Excel', 'CSTMicrowave'], {'street': 'Hotoro', 'zipcode': '710101'}]\n",
      "The data type of keys = <class 'list'>\n"
     ]
    }
   ],
   "source": [
    "values = list(student.values())\n",
    "print('The keys of the student =',values)\n",
    "print('The data type of keys =',type(values))"
   ]
  },
  {
   "cell_type": "markdown",
   "metadata": {},
   "source": [
    "Q9 Change the dictionary to a list of tuples using items() method"
   ]
  },
  {
   "cell_type": "code",
   "execution_count": 10,
   "metadata": {},
   "outputs": [
    {
     "name": "stdout",
     "output_type": "stream",
     "text": [
      "The students of the student = (('first_name', 'Shamsuddeen'), ('last_name', 'Yusuf'), ('age', '34'), ('country', 'Nigeria'), ('is_marred', True), ('skills', ['Reading', 'Research', 'Writing', 'python', 'Matlab', 'Word', 'Excel', 'CSTMicrowave']), ('address', {'street': 'Hotoro', 'zipcode': '710101'}))\n"
     ]
    }
   ],
   "source": [
    "student_tuple = tuple(student.items()) # student.items()\n",
    "print('The students of the student =',student_tuple)"
   ]
  },
  {
   "cell_type": "markdown",
   "metadata": {},
   "source": [
    "Q10 Delete one of the items in the dictionary"
   ]
  },
  {
   "cell_type": "code",
   "execution_count": null,
   "metadata": {},
   "outputs": [
    {
     "name": "stdout",
     "output_type": "stream",
     "text": [
      "The students of the student = {'last_name': 'Yusuf', 'age': '34', 'country': 'Nigeria', 'is_marred': True, 'skills': ['Reading', 'Research', 'Writing', 'python', 'Matlab', 'Word', 'Excel', 'CSTMicrowave'], 'address': {'street': 'Hotoro', 'zipcode': '710101'}}\n"
     ]
    },
    {
     "ename": "KeyError",
     "evalue": "'first_name'",
     "output_type": "error",
     "traceback": [
      "\u001b[1;31m---------------------------------------------------------------------------\u001b[0m",
      "\u001b[1;31mKeyError\u001b[0m                                  Traceback (most recent call last)",
      "Cell \u001b[1;32mIn[11], line 3\u001b[0m\n\u001b[0;32m      1\u001b[0m \u001b[38;5;28;01mdel\u001b[39;00m student[\u001b[38;5;124m'\u001b[39m\u001b[38;5;124mfirst_name\u001b[39m\u001b[38;5;124m'\u001b[39m]\n\u001b[0;32m      2\u001b[0m \u001b[38;5;28mprint\u001b[39m(\u001b[38;5;124m'\u001b[39m\u001b[38;5;124mThe students of the student =\u001b[39m\u001b[38;5;124m'\u001b[39m,student)\n\u001b[1;32m----> 3\u001b[0m \u001b[38;5;28mprint\u001b[39m(\u001b[38;5;124m'\u001b[39m\u001b[38;5;124mThe first_name of the student =\u001b[39m\u001b[38;5;124m'\u001b[39m,\u001b[43mstudent\u001b[49m\u001b[43m[\u001b[49m\u001b[38;5;124;43m'\u001b[39;49m\u001b[38;5;124;43mfirst_name\u001b[39;49m\u001b[38;5;124;43m'\u001b[39;49m\u001b[43m]\u001b[49m)\n",
      "\u001b[1;31mKeyError\u001b[0m: 'first_name'"
     ]
    }
   ],
   "source": [
    "del student['first_name']\n",
    "print('The students of the student =',student)\n",
    "print('The first_name of the student =',student['first_name']) #Error  it has been deleted"
   ]
  },
  {
   "cell_type": "markdown",
   "metadata": {},
   "source": [
    "Q11 Delete one of the dictionaries"
   ]
  },
  {
   "cell_type": "code",
   "execution_count": null,
   "metadata": {},
   "outputs": [
    {
     "name": "stdout",
     "output_type": "stream",
     "text": [
      "The students of the student = {'last_name': 'Yusuf', 'age': '34', 'country': 'Nigeria', 'is_marred': True, 'skills': ['Reading', 'Research', 'Writing', 'python', 'Matlab', 'Word', 'Excel', 'CSTMicrowave'], 'address': {'street': 'Hotoro', 'zipcode': '710101'}}\n",
      "The students of the student = {'last_name': 'Yusuf', 'age': '34', 'country': 'Nigeria', 'is_marred': True, 'skills': ['Reading', 'Research', 'Writing', 'python', 'Matlab', 'Word', 'Excel', 'CSTMicrowave']}\n"
     ]
    }
   ],
   "source": [
    "print('The students of the student =',student)\n",
    "student.popitem() # remove the last item\n",
    "print('The students of the student =',student)"
   ]
  }
 ],
 "metadata": {
  "kernelspec": {
   "display_name": "Python 3",
   "language": "python",
   "name": "python3"
  },
  "language_info": {
   "codemirror_mode": {
    "name": "ipython",
    "version": 3
   },
   "file_extension": ".py",
   "mimetype": "text/x-python",
   "name": "python",
   "nbconvert_exporter": "python",
   "pygments_lexer": "ipython3",
   "version": "3.13.0"
  }
 },
 "nbformat": 4,
 "nbformat_minor": 2
}
