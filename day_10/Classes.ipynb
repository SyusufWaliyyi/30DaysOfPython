{
 "cells": [
  {
   "cell_type": "markdown",
   "metadata": {},
   "source": [
    "### __Classes Exercise__"
   ]
  },
  {
   "cell_type": "markdown",
   "metadata": {},
   "source": [
    "__Exercises: Level 1__\n",
    "\n",
    "Python has the module called statistics and we can use this module to do all the statistical calculations. However, to learn how to make function and reuse function let us try to develop a program, which calculates the measure of central tendency of a sample (mean, median, mode) and measure of variability (range, variance, standard deviation). In addition to those measures, find the min, max, count, percentile, and frequency distribution of the sample. You can create a class called Statistics and create all the functions that do statistical calculations as methods for the Statistics class. Check the output below."
   ]
  },
  {
   "cell_type": "code",
   "execution_count": 71,
   "metadata": {},
   "outputs": [],
   "source": [
    "from collections import Counter\n",
    "import math\n",
    "\n",
    "class Statistics:\n",
    "    def __init__(self, data):\n",
    "        self.data = data\n",
    "    # sum-up the data (ages) provided by the user\n",
    "    def sum(self):\n",
    "        return sum(self.data)\n",
    "    # sum-up the data divided by the length of the data\n",
    "    def mean(self):\n",
    "        return sum(self.data) / len(self.data)\n",
    "\n",
    "    # The middle data, for ood data it will a single data points for even average of the middle data points\n",
    "    def median(self):\n",
    "        sorted_data = sorted(self.data)\n",
    "        n = len(sorted_data)\n",
    "        mid = n // 2  # Middle of the data points\n",
    "        if n % 2 == 0: # Even data points\n",
    "            return (sorted_data[mid - 1] + sorted_data[mid]) / 2\n",
    "        else: # Odd data points\n",
    "            return sorted_data[mid]\n",
    "\n",
    "    # Number with highest number of occurrences\n",
    "    def mode(self):\n",
    "        data_count = Counter(self.data)  # Counting the frequency of each data point\n",
    "        max_count = max(data_count.values()) # Sorting the number with highest frequency\n",
    "        modes = [k for k, v in data_count.items() if v == max_count]\n",
    "        return modes # return the modes\n",
    "\n",
    "    # Difference between highest and the lowest data points\n",
    "    def data_range(self):\n",
    "        return max(self.data) - min(self.data)\n",
    "\n",
    "    # Calculating the variance from mean\n",
    "    def variance(self):\n",
    "        mean = self.mean()\n",
    "        return sum((x - mean) ** 2 for x in self.data) / len(self.data)\n",
    "\n",
    "    # Calculating the standard deviation\n",
    "    def standard_deviation(self):\n",
    "        return (self.variance()**0.5)\n",
    "\n",
    "    # Minimum number of the data points\n",
    "    def min(self):\n",
    "        return min(self.data)\n",
    "\n",
    "    # Maximum number of the data points\n",
    "    def max(self):\n",
    "        return max(self.data)\n",
    "\n",
    "    # The number of data points\n",
    "    def count(self):\n",
    "        return len(self.data)\n",
    "\n",
    "    def percentile(self, percentile):\n",
    "        sorted_data = sorted(self.data)\n",
    "        k = (len(sorted_data) - 1) * (percentile / 100)\n",
    "        f = math.floor(k)\n",
    "        c = math.ceil(k)\n",
    "        if f == c:\n",
    "            return sorted_data[int(k)]\n",
    "        return sorted_data[f] * (c - k) + sorted_data[c] * (k - f)\n",
    "\n",
    "    def frequency_distribution(self):\n",
    "        return dict(Counter(self.data))\n",
    "\n"
   ]
  },
  {
   "cell_type": "code",
   "execution_count": 72,
   "metadata": {},
   "outputs": [
    {
     "name": "stdout",
     "output_type": "stream",
     "text": [
      "Count: 25\n",
      "Sum: 744\n",
      "Min: 24\n",
      "Max: 38\n",
      "Range: 14\n",
      "Mean: 29.76\n",
      "Median: 29\n",
      "Mode: [26]\n",
      "Variance: 17.5424\n",
      "Standard Deviation: 4.188364836066696\n",
      "Percentile (25th): 26\n",
      "Frequency Distribution: {31: 2, 26: 5, 34: 2, 37: 2, 27: 4, 32: 3, 24: 2, 33: 2, 25: 1, 38: 1, 29: 1}\n"
     ]
    }
   ],
   "source": [
    "# Example usage:\n",
    "ages = [31, 26, 34, 37, 27, 26, 32, 32, 26, 27, 27, 24, 32, 33, 27, 25, 26, 38, 37, 31, 34, 24, 33, 29, 26]\n",
    "data = Statistics(ages)\n",
    "\n",
    "print(\"Count:\", data.count())\n",
    "print(\"Sum:\", data.sum())\n",
    "print(\"Min:\", data.min())\n",
    "print(\"Max:\", data.max())\n",
    "print(\"Range:\", data.data_range())\n",
    "print(\"Mean:\", data.mean())\n",
    "print(\"Median:\", data.median())\n",
    "print(\"Mode:\", data.mode())\n",
    "\n",
    "print(\"Variance:\", data.variance())\n",
    "print(\"Standard Deviation:\", data.standard_deviation())\n",
    "\n",
    "\n",
    "print(\"Percentile (25th):\", data.percentile(25))\n",
    "print(\"Frequency Distribution:\", data.frequency_distribution())"
   ]
  },
  {
   "cell_type": "markdown",
   "metadata": {},
   "source": [
    "__Exercises: Level 2__\n",
    "\n",
    "Create a class called PersonAccount. It has firstname, lastname, incomes, expenses properties and it has total_income, total_expense, account_info, add_income, add_expense and account_balance methods. Incomes is a set of incomes and its description. The same goes for expenses."
   ]
  },
  {
   "cell_type": "code",
   "execution_count": 73,
   "metadata": {},
   "outputs": [],
   "source": [
    "class PersonAccount:\n",
    "    def __init__(self, firstname, lastname):\n",
    "        self.firstname = firstname\n",
    "        self.lastname = lastname\n",
    "        self.incomes = {}\n",
    "        self.expenses = {}\n",
    "\n",
    "    # will return total incomes\n",
    "    def total_income(self):\n",
    "        return sum(self.incomes.values())\n",
    "\n",
    "    # will return total expenses\n",
    "    def total_expense(self):\n",
    "        return sum(self.expenses.values())\n",
    "\n",
    "    # will return the account information including total income, total expenses, and account balance\n",
    "    def account_info(self):\n",
    "        return f\"Account holder: {self.firstname} {self.lastname}\\nTotal Income: {self.total_income()}\\nTotal Expense: {self.total_expense()}\\nAccount Balance: {self.account_balance()}\"\n",
    "\n",
    "    def add_income(self, description, amount):\n",
    "        self.incomes[description] = self.incomes.get(description, 0) + amount\n",
    "\n",
    "    def add_expense(self, description, amount):\n",
    "        self.expenses[description] = self.expenses.get(description, 0) + amount\n",
    "\n",
    "    # will return the amount remaining after expenses\n",
    "    def account_balance(self):\n",
    "        return self.total_income() - self.total_expense()\n"
   ]
  },
  {
   "cell_type": "markdown",
   "metadata": {},
   "source": [
    "__Consider the example below__"
   ]
  },
  {
   "cell_type": "markdown",
   "metadata": {},
   "source": [
    "Calling the class constructor"
   ]
  },
  {
   "cell_type": "code",
   "execution_count": 74,
   "metadata": {},
   "outputs": [
    {
     "name": "stdout",
     "output_type": "stream",
     "text": [
      "My first name: Shamsuddeen\n",
      "My last name: Yusuf\n"
     ]
    }
   ],
   "source": [
    "my_self = PersonAccount('Shamsuddeen', 'Yusuf')  # Calling the class constructor\n",
    "print(f'My first name: {my_self.firstname}')  # first argument\n",
    "print(f'My last name: {my_self.lastname}')  # Second argument\n"
   ]
  },
  {
   "cell_type": "markdown",
   "metadata": {},
   "source": [
    "# Calling the class methods"
   ]
  },
  {
   "cell_type": "code",
   "execution_count": 75,
   "metadata": {},
   "outputs": [
    {
     "name": "stdout",
     "output_type": "stream",
     "text": [
      "Account holder: Shamsuddeen Yusuf\n",
      "Total Income: 1050000\n",
      "Total Expense: 240000\n",
      "Account Balance: 810000\n"
     ]
    }
   ],
   "source": [
    "# add_income function\n",
    "my_self.add_income('Salary', 500000)\n",
    "my_self.add_income('Farming', 250000)\n",
    "my_self.add_income('Business', 300000)\n",
    "\n",
    "# add_expense function\n",
    "my_self.add_expense('Rent', 20000)\n",
    "my_self.add_expense('Groceries', 100000)\n",
    "my_self.add_expense('School fees', 75000)\n",
    "my_self.add_expense('Services', 45000)\n",
    "\n",
    "# account_info function\n",
    "print(my_self.account_info())"
   ]
  }
 ],
 "metadata": {
  "kernelspec": {
   "display_name": "Python 3",
   "language": "python",
   "name": "python3"
  },
  "language_info": {
   "codemirror_mode": {
    "name": "ipython",
    "version": 3
   },
   "file_extension": ".py",
   "mimetype": "text/x-python",
   "name": "python",
   "nbconvert_exporter": "python",
   "pygments_lexer": "ipython3",
   "version": "3.13.0"
  }
 },
 "nbformat": 4,
 "nbformat_minor": 2
}
