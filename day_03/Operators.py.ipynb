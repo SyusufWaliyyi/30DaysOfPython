{
 "cells": [
  {
   "cell_type": "markdown",
   "metadata": {},
   "source": [
    "# Day 3: 30 Days of python programming: __LIST__"
   ]
  },
  {
   "cell_type": "markdown",
   "metadata": {},
   "source": [
    "## Excercises 5 Module 3"
   ]
  },
  {
   "cell_type": "markdown",
   "metadata": {},
   "source": [
    "Q1 Declaring age as an integer"
   ]
  },
  {
   "cell_type": "code",
   "execution_count": 9,
   "metadata": {},
   "outputs": [
    {
     "name": "stdout",
     "output_type": "stream",
     "text": [
      "3 and it is of <class 'int'>\n"
     ]
    }
   ],
   "source": [
    "age = 3\n",
    "print(age, 'and it is of', type(age))"
   ]
  },
  {
   "cell_type": "markdown",
   "metadata": {},
   "source": [
    "Q2 Declaring height as a float number"
   ]
  },
  {
   "cell_type": "code",
   "execution_count": 10,
   "metadata": {},
   "outputs": [
    {
     "name": "stdout",
     "output_type": "stream",
     "text": [
      "1.68 and its of type <class 'float'>\n"
     ]
    }
   ],
   "source": [
    "height = 1.68\n",
    "print(height, 'and its of type', type(height))"
   ]
  },
  {
   "cell_type": "markdown",
   "metadata": {},
   "source": [
    "Q3 Declaring a complex number"
   ]
  },
  {
   "cell_type": "code",
   "execution_count": 11,
   "metadata": {},
   "outputs": [
    {
     "name": "stdout",
     "output_type": "stream",
     "text": [
      "(2+5j) and its of <class 'complex'>\n"
     ]
    }
   ],
   "source": [
    "complex_number = 2 + 5j\n",
    "print(complex_number, 'and its of', type(complex_number))"
   ]
  },
  {
   "cell_type": "markdown",
   "metadata": {},
   "source": [
    "Q4 prompting user to enter a value for area of triangle"
   ]
  },
  {
   "cell_type": "code",
   "execution_count": 12,
   "metadata": {},
   "outputs": [
    {
     "name": "stdout",
     "output_type": "stream",
     "text": [
      "The height =  20\n",
      "The base =  10\n",
      "The area of the triangle =  100.0\n"
     ]
    }
   ],
   "source": [
    "h = int(input('Enter the height h  :'))\n",
    "b = int(input('Enter the base b :'))\n",
    "\n",
    "area_of_triangle = 0.5*h*b\n",
    "\n",
    "print('The height = ', h)\n",
    "print('The base = ', b)\n",
    "print('The area of the triangle = ', area_of_triangle)"
   ]
  },
  {
   "cell_type": "markdown",
   "metadata": {},
   "source": [
    "Q5 Prompt a user to enter the sides of a triangle to calculate its perimeter"
   ]
  },
  {
   "cell_type": "code",
   "execution_count": 13,
   "metadata": {},
   "outputs": [
    {
     "name": "stdout",
     "output_type": "stream",
     "text": [
      "The side c =  5\n",
      "The side b = 4\n",
      "the side c =  3\n",
      "The area of the triangle =  12\n"
     ]
    }
   ],
   "source": [
    "a = int(input('Enter the side a :'))\n",
    "b = int(input('Enter the side b :'))\n",
    "c = int(input('Enter the side c :'))\n",
    "\n",
    "perimeter_of_triangle = a + b + c\n",
    "\n",
    "print('The side c = ', a)\n",
    "print('The side b =', b)\n",
    "print('the side c = ',c)\n",
    "print('The area of the triangle = ', perimeter_of_triangle)"
   ]
  },
  {
   "cell_type": "markdown",
   "metadata": {},
   "source": [
    "Q6 Prompt a user to enter base and height of a rectangle"
   ]
  },
  {
   "cell_type": "code",
   "execution_count": 14,
   "metadata": {},
   "outputs": [
    {
     "name": "stdout",
     "output_type": "stream",
     "text": [
      "The height =  10\n",
      "The base =  4\n",
      "The area of the rectangle =  40\n",
      "The perimeter of the rectangle =  28\n"
     ]
    }
   ],
   "source": [
    "h = int(input('Enter the height h  :'))\n",
    "b = int(input('Enter the base b :'))\n",
    "\n",
    "area_of_rectangle = h*b\n",
    "perimeter_of_rectangle = 2*(h + b)\n",
    "\n",
    "print('The height = ', h)\n",
    "print('The base = ', b)\n",
    "print('The area of the rectangle = ', area_of_rectangle)\n",
    "print('The perimeter of the rectangle = ', perimeter_of_rectangle)"
   ]
  },
  {
   "cell_type": "markdown",
   "metadata": {},
   "source": [
    "Q7 Prompt a user to enter radius to calculate area and perimeter of a circle"
   ]
  },
  {
   "cell_type": "code",
   "execution_count": 48,
   "metadata": {},
   "outputs": [
    {
     "name": "stdout",
     "output_type": "stream",
     "text": [
      "The radius =  30\n",
      "The area of the circle =  100.0\n",
      "The perimeter of the circle =  188.51999999999998\n"
     ]
    }
   ],
   "source": [
    "radius = int(input('Enter the height h  :'))\n",
    "pi = 3.142\n",
    "area_of_circle = pi*radius**2\n",
    "circle_circumference = 2*pi*radius\n",
    "\n",
    "print('The radius = ', radius)\n",
    "print('The area of the circle = ', area_of_triangle)\n",
    "print('The perimeter of the circle = ', circle_circumference)\n"
   ]
  },
  {
   "cell_type": "markdown",
   "metadata": {},
   "source": [
    "Q8  the slope and intersection of y = 2x - 2"
   ]
  },
  {
   "cell_type": "code",
   "execution_count": 46,
   "metadata": {},
   "outputs": [
    {
     "name": "stdout",
     "output_type": "stream",
     "text": [
      "The Y intercept =  -2\n",
      "The x intercept =  1.0\n"
     ]
    }
   ],
   "source": [
    "# compare with the linear equation  y = mx + c \n",
    "slope = 2; # cofficient of x\n",
    "\n",
    "# y-intercept is when x = 0\n",
    "x = 0\n",
    "yintercept = 2*x - 2\n",
    "\n",
    "# y-intercept is when x = 0\n",
    "y1 = 0\n",
    "xintercept = (y1+2)/2\n",
    "\n",
    "\n",
    "print('The Y intercept = ',yintercept)\n",
    "\n",
    "print('The x intercept = ',xintercept)\n"
   ]
  },
  {
   "cell_type": "markdown",
   "metadata": {},
   "source": [
    "Q9 Slope Euclidean distance"
   ]
  },
  {
   "cell_type": "code",
   "execution_count": 45,
   "metadata": {},
   "outputs": [
    {
     "name": "stdout",
     "output_type": "stream",
     "text": [
      "The slope =  2.0\n",
      "The Euclidean distance =  8.94427190999916\n"
     ]
    }
   ],
   "source": [
    "x1, y1, x2, y2 = 2, 2, 6, 10\n",
    "\n",
    "# Slope\n",
    "Ychange = y2 - y1 \n",
    "Xchange = x2 - x1\n",
    "slope1 = Ychange/Xchange\n",
    "\n",
    "# Euclidean distance\n",
    "Euclidean_distance = ((Ychange**2) + (Xchange**2))**0.5\n",
    "print('The slope = ', slope1)\n",
    "print('The Euclidean distance = ', Euclidean_distance)"
   ]
  },
  {
   "cell_type": "markdown",
   "metadata": {},
   "source": [
    "Q10 Comparing slopes"
   ]
  },
  {
   "cell_type": "code",
   "execution_count": 44,
   "metadata": {},
   "outputs": [
    {
     "name": "stdout",
     "output_type": "stream",
     "text": [
      "slope for Q8 =  2\n",
      "Slope for Q9 = 2.0\n",
      "slope equal to slope1 True\n",
      "slope not equal to slop1 False\n",
      "slope greater than or equal to slope1 True\n",
      "slope less than or equal to slope1 True\n"
     ]
    }
   ],
   "source": [
    "print('slope for Q8 = ',slope)\n",
    "print('Slope for Q9 =',slope1)\n",
    "print('slope equal to slope1', slope==slope1)\n",
    "print('slope not equal to slop1', slope!=slope1)\n",
    "print('slope greater than or equal to slope1', slope>=slope1)\n",
    "print('slope less than or equal to slope1', slope<=slope1)"
   ]
  },
  {
   "cell_type": "markdown",
   "metadata": {},
   "source": [
    "Q11"
   ]
  },
  {
   "cell_type": "code",
   "execution_count": 43,
   "metadata": {},
   "outputs": [
    {
     "name": "stdout",
     "output_type": "stream",
     "text": [
      "when x = 0, y =  9\n",
      "when x = -1, y =  4\n",
      "when x = -2, y =  1\n",
      "when x = 3, y =  0\n"
     ]
    }
   ],
   "source": [
    "x = 0\n",
    "y = (x**2) + 6*x + 9\n",
    "print('when x = 0, y = ',y)\n",
    "x1 = -1\n",
    "y1 = (x1**2) + 6*x1 + 9\n",
    "print('when x = -1, y = ',y1)\n",
    "x2 = -2\n",
    "y2 = (x2**2) + 6*x2 + 9\n",
    "print('when x = -2, y = ',y2)\n",
    "x3 = -3\n",
    "y3 = (x3**2) + 6*x3 + 9\n",
    "print('when x = 3, y = ',y3)"
   ]
  },
  {
   "cell_type": "markdown",
   "metadata": {},
   "source": [
    "Q12 Lenght of dragon and python and making false comparison"
   ]
  },
  {
   "cell_type": "code",
   "execution_count": 42,
   "metadata": {},
   "outputs": [
    {
     "name": "stdout",
     "output_type": "stream",
     "text": [
      "Is greater then is False\n",
      "Is less than is False\n",
      "Is not equal is False\n"
     ]
    }
   ],
   "source": [
    "python = 'python'\n",
    "dragon = 'dragon'\n",
    "\n",
    "lenght_of_python = len(python)\n",
    "lenght_of_dragon = len(dragon)\n",
    "\n",
    "print('Is greater then is',lenght_of_python > lenght_of_dragon)\n",
    "print('Is less than is',lenght_of_python < lenght_of_dragon)\n",
    "print('Is not equal is',lenght_of_python != lenght_of_dragon)"
   ]
  },
  {
   "cell_type": "markdown",
   "metadata": {},
   "source": [
    "Q13 find if __on__ exist in both python and dragon"
   ]
  },
  {
   "cell_type": "code",
   "execution_count": 21,
   "metadata": {},
   "outputs": [
    {
     "name": "stdout",
     "output_type": "stream",
     "text": [
      "The common letters found are {'o', 'n'}\n"
     ]
    }
   ],
   "source": [
    "python = 'python'\n",
    "dragon = 'dragon'\n",
    "\n",
    "common_letter = set(dragon) & set(python)\n",
    "\n",
    "print('The common letters found are', common_letter)"
   ]
  },
  {
   "cell_type": "markdown",
   "metadata": {},
   "source": [
    "Q14 find if jargon exist in the statement below"
   ]
  },
  {
   "cell_type": "code",
   "execution_count": 41,
   "metadata": {},
   "outputs": [
    {
     "name": "stdout",
     "output_type": "stream",
     "text": [
      "I hope this course is not full of jargon\n",
      "jargon is in the sentence\n"
     ]
    }
   ],
   "source": [
    "sentence ='I hope this course is not full of jargon'\n",
    "print(sentence)\n",
    "word_to_find = 'jargon'\n",
    "\n",
    "if word_to_find in sentence:\n",
    "    print(word_to_find, 'is in the sentence')\n",
    "else:\n",
    "    print('Word',word_to_find,'not found')"
   ]
  },
  {
   "cell_type": "markdown",
   "metadata": {},
   "source": [
    "Q15 "
   ]
  },
  {
   "cell_type": "code",
   "execution_count": 40,
   "metadata": {},
   "outputs": [
    {
     "name": "stdout",
     "output_type": "stream",
     "text": [
      "False\n"
     ]
    }
   ],
   "source": [
    "Drathon = 'on' not in 'dragon' and 'on' not in 'python'\n",
    "print(Drathon)"
   ]
  },
  {
   "cell_type": "markdown",
   "metadata": {},
   "source": [
    "Q16 length of dragon"
   ]
  },
  {
   "cell_type": "code",
   "execution_count": 38,
   "metadata": {},
   "outputs": [
    {
     "name": "stdout",
     "output_type": "stream",
     "text": [
      "The dragon\"s length =  6\n",
      "The float of dragon\"s length = 6.0\n"
     ]
    }
   ],
   "source": [
    "dragon_length = (len(dragon))\n",
    "print('The dragon\"s length = ',dragon_length)\n",
    "b = float(dragon_length)\n",
    "print('The float of dragon\"s length =',b)"
   ]
  },
  {
   "cell_type": "markdown",
   "metadata": {},
   "source": [
    "Q17 How to check even number"
   ]
  },
  {
   "cell_type": "code",
   "execution_count": 37,
   "metadata": {},
   "outputs": [
    {
     "name": "stdout",
     "output_type": "stream",
     "text": [
      "20 is an even number\n"
     ]
    }
   ],
   "source": [
    "num = 20\n",
    "if num % 2 == 0:\n",
    "    print(num, 'is an even number')\n",
    "else:\n",
    "    print(num, 'is an odd number')\n",
    "\n"
   ]
  },
  {
   "cell_type": "markdown",
   "metadata": {},
   "source": [
    "Q18 checking"
   ]
  },
  {
   "cell_type": "code",
   "execution_count": 26,
   "metadata": {},
   "outputs": [
    {
     "name": "stdout",
     "output_type": "stream",
     "text": [
      "Their floor division =  2\n",
      "integer expression of 2.7 2\n",
      "c_int and floor divsion are eqaul =  True\n"
     ]
    }
   ],
   "source": [
    "a, b = 7, 3\n",
    "division_floor = a// b\n",
    "print('Their floor division = ',division_floor)\n",
    "c_int = int(2.7)\n",
    "print('integer expression of 2.7',c_int)\n",
    "\n",
    "print('c_int and floor divsion are eqaul = ',division_floor==c_int)\n"
   ]
  },
  {
   "cell_type": "markdown",
   "metadata": {},
   "source": [
    "Q19 checking"
   ]
  },
  {
   "cell_type": "code",
   "execution_count": 34,
   "metadata": {},
   "outputs": [
    {
     "name": "stdout",
     "output_type": "stream",
     "text": [
      "a is <class 'str'>\n",
      "b is <class 'int'>\n",
      "are they of the same type: False\n"
     ]
    }
   ],
   "source": [
    "a, b = '10', 10\n",
    "print('a is', type(a))\n",
    "print('b is', type(b))\n",
    "print('are they of the same type:',type(a)==type(b))"
   ]
  },
  {
   "cell_type": "markdown",
   "metadata": {},
   "source": [
    "Q20 Checking variable type"
   ]
  },
  {
   "cell_type": "code",
   "execution_count": 35,
   "metadata": {},
   "outputs": [
    {
     "ename": "ValueError",
     "evalue": "invalid literal for int() with base 10: '9.8'",
     "output_type": "error",
     "traceback": [
      "\u001b[1;31m---------------------------------------------------------------------------\u001b[0m",
      "\u001b[1;31mValueError\u001b[0m                                Traceback (most recent call last)",
      "Cell \u001b[1;32mIn[35], line 1\u001b[0m\n\u001b[1;32m----> 1\u001b[0m a, b \u001b[38;5;241m=\u001b[39m \u001b[38;5;28;43mint\u001b[39;49m\u001b[43m(\u001b[49m\u001b[38;5;124;43m'\u001b[39;49m\u001b[38;5;124;43m9.8\u001b[39;49m\u001b[38;5;124;43m'\u001b[39;49m\u001b[43m)\u001b[49m, \u001b[38;5;241m10\u001b[39m\n\u001b[0;32m      2\u001b[0m \u001b[38;5;28mprint\u001b[39m(a \u001b[38;5;241m==\u001b[39m b)\n",
      "\u001b[1;31mValueError\u001b[0m: invalid literal for int() with base 10: '9.8'"
     ]
    }
   ],
   "source": [
    "a, b = int('9.8'), 10\n",
    "print(a == b)"
   ]
  },
  {
   "cell_type": "markdown",
   "metadata": {},
   "source": [
    "### Q 21"
   ]
  },
  {
   "cell_type": "code",
   "execution_count": 7,
   "metadata": {},
   "outputs": [
    {
     "name": "stdout",
     "output_type": "stream",
     "text": [
      "Number of hours =  40\n",
      "The rate per hour =  28\n",
      "The weekly earning =  1120\n"
     ]
    }
   ],
   "source": [
    "hours = int(input('Enter the number of hours '))\n",
    "hourly_rate = int(input('Enter the number of weeks '))\n",
    "weekly_earning = hours * hourly_rate\n",
    "\n",
    "print('Number of hours = ', hours)\n",
    "print('The rate per hour = ', hourly_rate)\n",
    "print('The weekly earning = ',weekly_earning)"
   ]
  },
  {
   "cell_type": "markdown",
   "metadata": {},
   "source": [
    "### Q 22 "
   ]
  },
  {
   "cell_type": "code",
   "execution_count": null,
   "metadata": {},
   "outputs": [
    {
     "name": "stdout",
     "output_type": "stream",
     "text": [
      "Number of years live = 100 years\n",
      "number of days live =  36500 days\n",
      "number of hours live = 876000 hours\n",
      "number of seconds lives = 3153600000 seconds\n"
     ]
    }
   ],
   "source": [
    "years_live = int(input('prompts the user to enter number of years '))\n",
    "days_live = years_live * 365\n",
    "hours_live = days_live * 24\n",
    "minutes_live = hours_live * 60\n",
    "seconds_live = minutes_live * 60\n",
    "\n",
    "print('Number of years live =', years_live,'years')\n",
    "print('number of days live = ',days_live,'days')\n",
    "print('number of hours live =', hours_live,'hours')\n",
    "print('number of seconds lives =', seconds_live,'seconds')"
   ]
  },
  {
   "cell_type": "markdown",
   "metadata": {},
   "source": [
    "Q23"
   ]
  },
  {
   "cell_type": "code",
   "execution_count": 8,
   "metadata": {},
   "outputs": [
    {
     "name": "stdout",
     "output_type": "stream",
     "text": [
      "1 1 1 1 1\n",
      "2 1 2 4 8\n",
      "3 1 3 9 27\n",
      "4 1 4 16 64\n",
      "5 1 5 25 125\n"
     ]
    }
   ],
   "source": [
    "for x in range(1, 6):\n",
    "    print(f\"{x} 1 {x} {x**2} {x**3}\")"
   ]
  }
 ],
 "metadata": {
  "kernelspec": {
   "display_name": "Python 3",
   "language": "python",
   "name": "python3"
  },
  "language_info": {
   "codemirror_mode": {
    "name": "ipython",
    "version": 3
   },
   "file_extension": ".py",
   "mimetype": "text/x-python",
   "name": "python",
   "nbconvert_exporter": "python",
   "pygments_lexer": "ipython3",
   "version": "3.13.0"
  }
 },
 "nbformat": 4,
 "nbformat_minor": 2
}
