{
 "cells": [
  {
   "cell_type": "markdown",
   "metadata": {},
   "source": [
    "## Exercises: Module 9"
   ]
  },
  {
   "cell_type": "code",
   "execution_count": null,
   "metadata": {},
   "outputs": [],
   "source": []
  },
  {
   "cell_type": "markdown",
   "metadata": {},
   "source": [
    "### Exercises: Level 1"
   ]
  },
  {
   "cell_type": "markdown",
   "metadata": {},
   "source": [
    "#### Q1 Declare a function add_two_numbers. It takes two parameters and it returns a sum."
   ]
  },
  {
   "cell_type": "code",
   "execution_count": 1,
   "metadata": {},
   "outputs": [
    {
     "name": "stdout",
     "output_type": "stream",
     "text": [
      "25\n"
     ]
    }
   ],
   "source": [
    "def add_two_numbers(num1, num2):\n",
    "    return num1 + num2\n",
    "\n",
    "print(add_two_numbers(15, 10))  # Output: 8"
   ]
  },
  {
   "cell_type": "markdown",
   "metadata": {},
   "source": [
    "#### Q2 Area of a circle is calculated as follows: area = π x r x r. Write a function that calculates area_of_circle."
   ]
  },
  {
   "cell_type": "code",
   "execution_count": 5,
   "metadata": {},
   "outputs": [
    {
     "name": "stdout",
     "output_type": "stream",
     "text": [
      "the area of the circle = 113.04\n"
     ]
    }
   ],
   "source": [
    "def area_of_circle(radius):\n",
    "    return 3.14 * radius ** 2\n",
    "\n",
    "## Call the function to calculate the area of the circle\n",
    "print(f'the area of the circle = {area_of_circle(6)}')  "
   ]
  },
  {
   "cell_type": "markdown",
   "metadata": {},
   "source": [
    "#### Write a function called add_all_nums which takes arbitrary number of arguments and sums all the arguments. Check if all the list items are number types. If not do give a reasonable feedback."
   ]
  },
  {
   "cell_type": "code",
   "execution_count": 10,
   "metadata": {},
   "outputs": [
    {
     "name": "stdout",
     "output_type": "stream",
     "text": [
      "the sum of the numbers = 150\n"
     ]
    }
   ],
   "source": [
    "def add_all_nums(*args):\n",
    "    total = 0\n",
    "    for num in args:\n",
    "        total += num\n",
    "    return total\n",
    "\n",
    "print(f'the sum of the numbers = {add_all_nums(10, 20, 30, 40, 50)}')"
   ]
  },
  {
   "cell_type": "markdown",
   "metadata": {},
   "source": [
    "#### Q4 Temperature in °C can be converted to °F using this formula: °F = (°C x 9/5) + 32. Write a function which converts °C to °F, convert_celsius_to-fahrenheit"
   ]
  },
  {
   "cell_type": "code",
   "execution_count": 11,
   "metadata": {},
   "outputs": [
    {
     "name": "stdout",
     "output_type": "stream",
     "text": [
      "the temperature in Fahrenheit = 86.0\n",
      "the temperature in Fahrenheit = 32.0\n",
      "the temperature in Fahrenheit = 14.0\n",
      "the temperature in Fahrenheit = 113.0\n"
     ]
    }
   ],
   "source": [
    "def convert_celsius_to_fahrenheit(celsius):\n",
    "    return (celsius * 9/5) + 32\n",
    "\n",
    "# example 1: convert 30 degrees celsius to fahrenheit\n",
    "print(f'the temperature in Fahrenheit = {convert_celsius_to_fahrenheit(30)}')\n",
    "# example 2: convert 0 degrees celsius to fahrenheit\n",
    "print(f'the temperature in Fahrenheit = {convert_celsius_to_fahrenheit(0)}')\n",
    "# example 3: convert -10 degrees celsius to fahrenheit\n",
    "print(f'the temperature in Fahrenheit = {convert_celsius_to_fahrenheit(-10)}')\n",
    "# example: convert 45 degrees celsius to fahrenheit\n",
    "print(f'the temperature in Fahrenheit = {convert_celsius_to_fahrenheit(45)}')"
   ]
  },
  {
   "cell_type": "markdown",
   "metadata": {},
   "source": [
    "### Q5 Write a function called check-season, it takes a month parameter and returns the season: Autumn, Winter, Spring or Summer."
   ]
  },
  {
   "cell_type": "code",
   "execution_count": 10,
   "metadata": {},
   "outputs": [
    {
     "name": "stdout",
     "output_type": "stream",
     "text": [
      "Is spring a season? True\n",
      "Is winter a season? False\n",
      "Is winter a season? True\n",
      "Is winter a season? True\n",
      "Is winter a season? False\n",
      "Is winter a season? True\n"
     ]
    }
   ],
   "source": [
    "def check_season(season):\n",
    "    seasons = ['Autumn', 'Winter', 'Spring', 'Summer']\n",
    "    if season in seasons:\n",
    "        return True\n",
    "    else:\n",
    "        return False\n",
    "# example: check if Autumn is a season\n",
    "print(f'Is spring a season? {check_season(\"Autumn\")}')\n",
    "# example: check if Rainy is a season\n",
    "print(f'Is winter a season? {check_season(\"Rainy\")}')\n",
    "# example: check if Winter is a season\n",
    "print(f'Is winter a season? {check_season(\"Winter\")}')\n",
    "# example: check if Spring is a season\n",
    "print(f'Is winter a season? {check_season(\"Spring\")}')\n",
    "# example: check if Snowy is a season\n",
    "print(f'Is winter a season? {check_season(\"Snowy\")}')\n",
    "# example: check if Summer is a season\n",
    "print(f'Is winter a season? {check_season(\"Summer\")}')"
   ]
  },
  {
   "cell_type": "markdown",
   "metadata": {},
   "source": [
    "#### Q6 Write a function called calculate_slope which return the slope of a linear equation"
   ]
  },
  {
   "cell_type": "code",
   "execution_count": 15,
   "metadata": {},
   "outputs": [
    {
     "name": "stdout",
     "output_type": "stream",
     "text": [
      "the slope between (3, 2) and (8, 10) = 1.6\n",
      "the slope between (5, 3) and (10, 7) = 0.8\n",
      "the slope between (1, 4) and (6, 9) = 1.0\n",
      "the slope between (2, 5) and (7, 8) = 0.6\n",
      "the slope between (3, 6) and (8, 11) = 1.0\n"
     ]
    }
   ],
   "source": [
    "def calculate_slope(x1, y1, x2, y2):\n",
    "    return (y2 - y1) / (x2 - x1)\n",
    "\n",
    "# example 1: calculate the slope between (3, 2) and (8, 10)\n",
    "print(f'the slope between (3, 2) and (8, 10) = {calculate_slope(3, 2, 8, 10)}')\n",
    "# example 2: calculate the slope between (5, 3) and (10, 7)\n",
    "print(f'the slope between (5, 3) and (10, 7) = {calculate_slope(5, 3, 10, 7)}')\n",
    "# example 3: calculate the slope between (1, 4) and (6, 9)\n",
    "print(f'the slope between (1, 4) and (6, 9) = {calculate_slope(1, 4, 6, 9)}')\n",
    "# example 4: calculate the slope between (2, 5) and (7, 8)\n",
    "print(f'the slope between (2, 5) and (7, 8) = {calculate_slope(2, 5, 7, 8)}')\n",
    "# example 5: calculate the slope between (3, 6) and (8, 11)\n",
    "print(f'the slope between (3, 6) and (8, 11) = {calculate_slope(3, 6, 8, 11)}')"
   ]
  },
  {
   "cell_type": "markdown",
   "metadata": {},
   "source": [
    "#### Q7 Quadratic equation is calculated as follows: ax² + bx + c = 0. Write a function which calculates solution set of a quadratic equation, solve_quadratic_eqn"
   ]
  },
  {
   "cell_type": "code",
   "execution_count": 17,
   "metadata": {},
   "outputs": [
    {
     "name": "stdout",
     "output_type": "stream",
     "text": [
      "the roots of the quadratic equation = (-2.0, -3.0)\n",
      "the roots of the quadratic equation = (2.0, -2.0)\n",
      "the roots of the quadratic equation = ((1.2246467991473532e-16+2j), (-1.2246467991473532e-16-2j))\n",
      "the roots of the quadratic equation = (0.0, 0.0)\n",
      "the roots of the quadratic equation = (1.0, -1.0)\n"
     ]
    }
   ],
   "source": [
    "def solve_quadratic_eqn(a, b, c):\n",
    "    return (-b + (b**2 - 4*a*c)**0.5) / (2*a), (-b - (b**2 - 4*a*c)**0.5) / (2*a)\n",
    "\n",
    "# example 1: solve quadratic equation ax^2 + bx + c = 0, a = 1. b= 5. c = 6\n",
    "print(f'the roots of the quadratic equation = {solve_quadratic_eqn(1, 5, 6)}')\n",
    "# example 2: solve quadratic equation ax^2 + bx + c = 0, a = 1. b= 0. c = -4\n",
    "print(f'the roots of the quadratic equation = {solve_quadratic_eqn(1, 0, -4)}')\n",
    "# example 3: solve quadratic equation ax^2 + bx + c = 0. a = 1. b = 0. c = 4\n",
    "print(f'the roots of the quadratic equation = {solve_quadratic_eqn(1, 0, 4)}')\n",
    "# example 4: solve quadratic equation ax^2 + bx + c = 0, a = 1. b= 0. c = 0   \n",
    "print(f'the roots of the quadratic equation = {solve_quadratic_eqn(1, 0, 0)}')\n",
    "# example 5: solve quadratic equation ax^2 + bx + c = 0, a = 1. b= 0. c = -1 \n",
    "print(f'the roots of the quadratic equation = {solve_quadratic_eqn(1, 0, -1)}')"
   ]
  },
  {
   "cell_type": "markdown",
   "metadata": {},
   "source": [
    "#### Q8 Declare a function named print_list. It takes a list as a parameter and it prints out each element of the list"
   ]
  },
  {
   "cell_type": "code",
   "execution_count": 19,
   "metadata": {},
   "outputs": [
    {
     "name": "stdout",
     "output_type": "stream",
     "text": [
      "Apple\n",
      "Banana\n",
      "Orange\n",
      "Mango\n",
      "Pineapple\n"
     ]
    }
   ],
   "source": [
    "def print_list(*args):\n",
    "    for item in args:\n",
    "        print(item)\n",
    "\n",
    "print_list('Apple', 'Banana', 'Orange', 'Mango', 'Pineapple')"
   ]
  },
  {
   "cell_type": "markdown",
   "metadata": {},
   "source": [
    "#### Q9 Declare a function named reverse_list. It takes an array as a parameter and it returns the reverse of the array (use loops)."
   ]
  },
  {
   "cell_type": "code",
   "execution_count": 3,
   "metadata": {},
   "outputs": [
    {
     "name": "stdout",
     "output_type": "stream",
     "text": [
      "['Pineapple', 'Mango', 'Orange', 'Banana', 'Apple']\n"
     ]
    }
   ],
   "source": [
    "def reverse_list(*args):\n",
    "    return list(reversed(args))\n",
    "\n",
    "print(reverse_list('Apple', 'Banana', 'Orange', 'Mango', 'Pineapple'))"
   ]
  }
 ],
 "metadata": {
  "kernelspec": {
   "display_name": "Python 3",
   "language": "python",
   "name": "python3"
  },
  "language_info": {
   "codemirror_mode": {
    "name": "ipython",
    "version": 3
   },
   "file_extension": ".py",
   "mimetype": "text/x-python",
   "name": "python",
   "nbconvert_exporter": "python",
   "pygments_lexer": "ipython3",
   "version": "3.13.0"
  }
 },
 "nbformat": 4,
 "nbformat_minor": 2
}
