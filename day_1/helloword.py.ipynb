{
 "cells": [
  {
   "cell_type": "markdown",
   "metadata": {},
   "source": [
    "### __Day 1: 30 Days of python programming__"
   ]
  },
  {
   "cell_type": "markdown",
   "metadata": {},
   "source": [
    "### __Module 1 Assignment__"
   ]
  },
  {
   "cell_type": "markdown",
   "metadata": {},
   "source": [
    "Q1 Assigning two numbers to two variables in one line"
   ]
  },
  {
   "cell_type": "code",
   "execution_count": 49,
   "metadata": {},
   "outputs": [
    {
     "name": "stdout",
     "output_type": "stream",
     "text": [
      "First number =   3\n",
      "Second number =  2\n"
     ]
    }
   ],
   "source": [
    "a, b = 3, 2\n",
    "\n",
    "print('First number =  ', a)\n",
    "print('Second number = ', b)"
   ]
  },
  {
   "cell_type": "markdown",
   "metadata": {},
   "source": [
    "Q2 Performing basic operation using the two numbers"
   ]
  },
  {
   "cell_type": "markdown",
   "metadata": {},
   "source": [
    "Q3 Summation of the two numbers (+)"
   ]
  },
  {
   "cell_type": "code",
   "execution_count": 50,
   "metadata": {},
   "outputs": [
    {
     "name": "stdout",
     "output_type": "stream",
     "text": [
      "The sum =  5\n"
     ]
    }
   ],
   "source": [
    "sum = a + b\n",
    "print('The sum = ', sum)"
   ]
  },
  {
   "cell_type": "markdown",
   "metadata": {},
   "source": [
    "Q4 Difference between the two number (-)"
   ]
  },
  {
   "cell_type": "code",
   "execution_count": 51,
   "metadata": {},
   "outputs": [
    {
     "name": "stdout",
     "output_type": "stream",
     "text": [
      "The difference = 1\n"
     ]
    }
   ],
   "source": [
    "diff = a - b\n",
    "\n",
    "print('The difference =', diff)"
   ]
  },
  {
   "cell_type": "markdown",
   "metadata": {},
   "source": [
    "Q5 Modolus of the numbers (%)"
   ]
  },
  {
   "cell_type": "code",
   "execution_count": 52,
   "metadata": {},
   "outputs": [
    {
     "name": "stdout",
     "output_type": "stream",
     "text": [
      "The remainder = 1\n"
     ]
    }
   ],
   "source": [
    "remainder = a % b\n",
    "\n",
    "print('The remainder =', remainder)"
   ]
  },
  {
   "cell_type": "markdown",
   "metadata": {},
   "source": [
    "Q6 Division (/) "
   ]
  },
  {
   "cell_type": "code",
   "execution_count": 53,
   "metadata": {},
   "outputs": [
    {
     "name": "stdout",
     "output_type": "stream",
     "text": [
      "3 divided 2 = 1.5\n"
     ]
    }
   ],
   "source": [
    "division = a/b\n",
    "\n",
    "print('3 divided 2 =', division)"
   ]
  },
  {
   "cell_type": "markdown",
   "metadata": {},
   "source": [
    "Q7 Exponential (**) or using pow by importing math"
   ]
  },
  {
   "cell_type": "code",
   "execution_count": 54,
   "metadata": {},
   "outputs": [
    {
     "name": "stdout",
     "output_type": "stream",
     "text": [
      "3 exponent 2 = 9\n",
      "3 power 2 = 9\n"
     ]
    }
   ],
   "source": [
    "exponent = a**b\n",
    "power = pow(a,b)\n",
    "print('3 exponent 2 =', exponent)\n",
    "print('3 power 2 =', power)"
   ]
  },
  {
   "cell_type": "markdown",
   "metadata": {},
   "source": [
    "Q8 Floor dvision"
   ]
  },
  {
   "cell_type": "code",
   "execution_count": 55,
   "metadata": {},
   "outputs": [
    {
     "name": "stdout",
     "output_type": "stream",
     "text": [
      "3 floor division 2 =  1\n"
     ]
    }
   ],
   "source": [
    "Floor_division = a//b\n",
    "\n",
    "print('3 floor division 2 = ', Floor_division)"
   ]
  },
  {
   "cell_type": "markdown",
   "metadata": {},
   "source": [
    "Q9 Checking data type"
   ]
  },
  {
   "cell_type": "code",
   "execution_count": 56,
   "metadata": {},
   "outputs": [
    {
     "name": "stdout",
     "output_type": "stream",
     "text": [
      "The data type is <class 'int'>\n",
      "The data type is <class 'float'>\n",
      "The data type is <class 'complex'>\n",
      "The data type is <class 'str'>\n",
      "The data type is <class 'list'>\n",
      "The data type is <class 'dict'>\n",
      "The data type is <class 'set'>\n",
      "The data type is <class 'tuple'>\n",
      "The data type is <class 'bool'>\n",
      "The data type is <class 'bool'>\n"
     ]
    }
   ],
   "source": [
    "print('The data type is',type(10))                  \n",
    "print('The data type is',type(3.14))                \n",
    "print('The data type is',type(1 + 3j))              \n",
    "print('The data type is',type('Asabeneh'))          \n",
    "print('The data type is',type([1, 2, 3]))           \n",
    "print('The data type is',type({'name':'Asabeneh'})) \n",
    "print('The data type is',type({9.8, 3.14, 2.7}))    \n",
    "print('The data type is',type((9.8, 3.14, 2.7)))   \n",
    "print('The data type is',type(3 == 3))              \n",
    "print('The data type is',type(3 >= 3))              "
   ]
  }
 ],
 "metadata": {
  "kernelspec": {
   "display_name": "Python 3",
   "language": "python",
   "name": "python3"
  },
  "language_info": {
   "codemirror_mode": {
    "name": "ipython",
    "version": 3
   },
   "file_extension": ".py",
   "mimetype": "text/x-python",
   "name": "python",
   "nbconvert_exporter": "python",
   "pygments_lexer": "ipython3",
   "version": "3.13.0"
  }
 },
 "nbformat": 4,
 "nbformat_minor": 2
}
