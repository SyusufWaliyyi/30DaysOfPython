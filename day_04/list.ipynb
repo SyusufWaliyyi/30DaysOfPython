{
 "cells": [
  {
   "cell_type": "markdown",
   "metadata": {},
   "source": [
    "## __Day 5: 30 Days of python programming: LIST__"
   ]
  },
  {
   "cell_type": "markdown",
   "metadata": {},
   "source": [
    "Excercise 5 Level 1 "
   ]
  },
  {
   "cell_type": "markdown",
   "metadata": {},
   "source": [
    "Q1 Declaring an empty list "
   ]
  },
  {
   "cell_type": "code",
   "execution_count": 8,
   "metadata": {},
   "outputs": [
    {
     "name": "stdout",
     "output_type": "stream",
     "text": [
      "The Empty List =  []\n"
     ]
    }
   ],
   "source": [
    "Empty_List = [] # empty list\n",
    "\n",
    "\n",
    "print('The Empty List = ',Empty_List)\n"
   ]
  },
  {
   "cell_type": "markdown",
   "metadata": {},
   "source": [
    "Q2 Declaring a list  with more than 5 items"
   ]
  },
  {
   "cell_type": "code",
   "execution_count": 9,
   "metadata": {},
   "outputs": [
    {
     "name": "stdout",
     "output_type": "stream",
     "text": [
      "['ABU', 1, 'BUK', 3, 'KUST', 2, 'KASU', 7, True]\n"
     ]
    }
   ],
   "source": [
    "universities = ['ABU', 1, 'BUK', 3, 'KUST', 2, 'KASU', 7, 5>3]\n",
    "print(universities)"
   ]
  },
  {
   "cell_type": "markdown",
   "metadata": {},
   "source": [
    "Q 3 finding the length of the list"
   ]
  },
  {
   "cell_type": "code",
   "execution_count": 10,
   "metadata": {},
   "outputs": [
    {
     "name": "stdout",
     "output_type": "stream",
     "text": [
      "Length of an empty list =  0\n",
      "Length of universities list =  9\n"
     ]
    }
   ],
   "source": [
    "print('Length of an empty list = ',len(Empty_List))\n",
    "print('Length of universities list = ',len(universities))"
   ]
  },
  {
   "cell_type": "markdown",
   "metadata": {},
   "source": [
    "Q 4 getting 1st, 2nd and 3rd item"
   ]
  },
  {
   "cell_type": "code",
   "execution_count": 11,
   "metadata": {},
   "outputs": [
    {
     "name": "stdout",
     "output_type": "stream",
     "text": [
      "The first, middle and last items are = ABU KUST True\n"
     ]
    }
   ],
   "source": [
    "print('The first, middle and last items are =',universities[0],universities[4],universities[-1])"
   ]
  },
  {
   "cell_type": "markdown",
   "metadata": {},
   "source": [
    "Q5 Declaring a biodata list"
   ]
  },
  {
   "cell_type": "code",
   "execution_count": 12,
   "metadata": {},
   "outputs": [],
   "source": [
    "myself = ['Shamsuddeen', 34, 1.68, 'Married', 'Doguwa']"
   ]
  },
  {
   "cell_type": "markdown",
   "metadata": {},
   "source": [
    "Q5 Declaring IT companies list"
   ]
  },
  {
   "cell_type": "code",
   "execution_count": 13,
   "metadata": {},
   "outputs": [],
   "source": [
    "it_companies = ['Facebook', 'Google', 'Microsoft', 'Apple', 'IBM', 'Oracle', 'Amazon']"
   ]
  },
  {
   "cell_type": "markdown",
   "metadata": {},
   "source": [
    "Q7 Printing Q5 and Q6"
   ]
  },
  {
   "cell_type": "code",
   "execution_count": 14,
   "metadata": {},
   "outputs": [
    {
     "name": "stdout",
     "output_type": "stream",
     "text": [
      "My biodata = ['Shamsuddeen', 34, 1.68, 'Married', 'Doguwa']\n",
      "List of IT Companies = ['Facebook', 'Google', 'Microsoft', 'Apple', 'IBM', 'Oracle', 'Amazon']\n"
     ]
    }
   ],
   "source": [
    "print('My biodata =', myself)\n",
    "print('List of IT Companies =',it_companies)"
   ]
  },
  {
   "cell_type": "markdown",
   "metadata": {},
   "source": [
    "Q8 printing number of companies in the list"
   ]
  },
  {
   "cell_type": "code",
   "execution_count": 15,
   "metadata": {},
   "outputs": [
    {
     "name": "stdout",
     "output_type": "stream",
     "text": [
      "Number of companies in the list = 7\n"
     ]
    }
   ],
   "source": [
    "print('Number of companies in the list =', len(it_companies))"
   ]
  },
  {
   "cell_type": "markdown",
   "metadata": {},
   "source": [
    "Q9 printing the 1st, 2nd and 3rd company"
   ]
  },
  {
   "cell_type": "code",
   "execution_count": 16,
   "metadata": {},
   "outputs": [
    {
     "name": "stdout",
     "output_type": "stream",
     "text": [
      "The first, middle and last IT companies in the list are  = Facebook Apple Amazon\n"
     ]
    }
   ],
   "source": [
    "print('The first, middle and last IT companies in the list are  =',it_companies[0],it_companies[3],it_companies[-1])"
   ]
  },
  {
   "cell_type": "markdown",
   "metadata": {},
   "source": [
    "Q 10 Modifying and printing one of the companies"
   ]
  },
  {
   "cell_type": "code",
   "execution_count": 17,
   "metadata": {},
   "outputs": [
    {
     "name": "stdout",
     "output_type": "stream",
     "text": [
      "['Facebook', 'Google', 'Microsoft', 'Apple', 'IBM', 'Oracle', 'Amazon']\n",
      "['Facebook', 'Huawei', 'Microsoft', 'Apple', 'IBM', 'Oracle', 'Amazon']\n"
     ]
    }
   ],
   "source": [
    "print(it_companies)\n",
    "it_companies[1] = 'Huawei'\n",
    "print(it_companies)"
   ]
  },
  {
   "cell_type": "markdown",
   "metadata": {},
   "source": [
    "Q 11 Adding an IT Company to the list"
   ]
  },
  {
   "cell_type": "code",
   "execution_count": 18,
   "metadata": {},
   "outputs": [
    {
     "name": "stdout",
     "output_type": "stream",
     "text": [
      "['Facebook', 'Huawei', 'Microsoft', 'Apple', 'IBM', 'Oracle', 'Amazon']\n",
      "['Facebook', 'Huawei', 'Microsoft', 'Apple', 'IBM', 'Oracle', 'Amazon', 'Telegram']\n"
     ]
    }
   ],
   "source": [
    "print(it_companies)\n",
    "it_companies.append('Telegram')\n",
    "print(it_companies)"
   ]
  },
  {
   "cell_type": "markdown",
   "metadata": {},
   "source": [
    "Q12 Inserting an element at the middle of the list, \n",
    "*NOTE:* the list has 8 elements, therefore the middle is in between index 3 and 4"
   ]
  },
  {
   "cell_type": "code",
   "execution_count": 19,
   "metadata": {},
   "outputs": [
    {
     "name": "stdout",
     "output_type": "stream",
     "text": [
      "['Facebook', 'Huawei', 'Microsoft', 'Apple', 'IBM', 'Oracle', 'Amazon', 'Telegram']\n",
      "['Facebook', 'Huawei', 'Microsoft', 'Apple', 'Linkedin', 'IBM', 'Oracle', 'Amazon', 'Telegram']\n"
     ]
    }
   ],
   "source": [
    "print(it_companies)\n",
    "it_companies.insert(4, 'Linkedin') # Linkedin is added to the middle of the list\n",
    "print(it_companies)"
   ]
  },
  {
   "cell_type": "markdown",
   "metadata": {},
   "source": [
    "Q13 Changing element to uppercase "
   ]
  },
  {
   "cell_type": "code",
   "execution_count": 20,
   "metadata": {},
   "outputs": [
    {
     "name": "stdout",
     "output_type": "stream",
     "text": [
      "['Facebook', 'Huawei', 'Microsoft', 'Apple', 'Linkedin', 'IBM', 'Oracle', 'Amazon', 'Telegram']\n",
      "['Facebook', 'Huawei', 'MICROSOFT', 'Apple', 'Linkedin', 'IBM', 'Oracle', 'Amazon', 'Telegram']\n"
     ]
    }
   ],
   "source": [
    "print(it_companies)\n",
    "it_companies[2] = it_companies[2].upper() # Microsoft will be displayed in the uppercase\n",
    "print(it_companies)"
   ]
  },
  {
   "cell_type": "markdown",
   "metadata": {},
   "source": [
    "Q14 Joining element with a #"
   ]
  },
  {
   "cell_type": "code",
   "execution_count": 21,
   "metadata": {},
   "outputs": [
    {
     "name": "stdout",
     "output_type": "stream",
     "text": [
      "['Facebook', 'Huawei', 'MICROSOFT', 'Apple', 'Linkedin', 'IBM', 'Oracle', 'Amazon', 'Telegram']\n",
      "Facebook#; Huawei#; MICROSOFT#; Apple#; Linkedin#; IBM#; Oracle#; Amazon#; Telegram\n"
     ]
    }
   ],
   "source": [
    "print(it_companies)\n",
    "joined_itcompanies = '#; '.join(it_companies)\n",
    "print(joined_itcompanies)"
   ]
  },
  {
   "cell_type": "markdown",
   "metadata": {},
   "source": [
    "Q15 how to check if a certain company exist in the list"
   ]
  },
  {
   "cell_type": "code",
   "execution_count": 22,
   "metadata": {},
   "outputs": [
    {
     "name": "stdout",
     "output_type": "stream",
     "text": [
      "['Facebook', 'Huawei', 'MICROSOFT', 'Apple', 'Linkedin', 'IBM', 'Oracle', 'Amazon', 'Telegram']\n"
     ]
    },
    {
     "ename": "ValueError",
     "evalue": "'Microsoft' is not in list",
     "output_type": "error",
     "traceback": [
      "\u001b[1;31m---------------------------------------------------------------------------\u001b[0m",
      "\u001b[1;31mValueError\u001b[0m                                Traceback (most recent call last)",
      "Cell \u001b[1;32mIn[22], line 4\u001b[0m\n\u001b[0;32m      1\u001b[0m \u001b[38;5;28mprint\u001b[39m(it_companies)\n\u001b[0;32m      2\u001b[0m Microsoft \u001b[38;5;241m=\u001b[39m \u001b[38;5;124m'\u001b[39m\u001b[38;5;124mMicrosoft\u001b[39m\u001b[38;5;124m'\u001b[39m\n\u001b[1;32m----> 4\u001b[0m Microsoft \u001b[38;5;241m=\u001b[39m \u001b[43mit_companies\u001b[49m\u001b[38;5;241;43m.\u001b[39;49m\u001b[43mindex\u001b[49m\u001b[43m(\u001b[49m\u001b[43mMicrosoft\u001b[49m\u001b[43m)\u001b[49m\n\u001b[0;32m      5\u001b[0m \u001b[38;5;28mprint\u001b[39m(\u001b[38;5;124m'\u001b[39m\u001b[38;5;124mMicrosoft exist at index =\u001b[39m\u001b[38;5;124m'\u001b[39m, Microsoft)\n",
      "\u001b[1;31mValueError\u001b[0m: 'Microsoft' is not in list"
     ]
    }
   ],
   "source": [
    "print(it_companies)\n",
    "Microsoft = 'Microsoft'\n",
    "\n",
    "Microsoft = it_companies.index(Microsoft)\n",
    "print('Microsoft exist at index =', Microsoft)"
   ]
  },
  {
   "cell_type": "markdown",
   "metadata": {},
   "source": [
    "Q16 sorting a list of IT companies"
   ]
  },
  {
   "cell_type": "code",
   "execution_count": null,
   "metadata": {},
   "outputs": [
    {
     "name": "stdout",
     "output_type": "stream",
     "text": [
      "['Facebook', 'Huawei', 'MICROSOFT', 'Apple', 'Linkedin', 'IBM', 'Oracle', 'Amazon', 'Telegram']\n",
      "Th sorted IT companies list is  ['Amazon', 'Apple', 'Facebook', 'Huawei', 'IBM', 'Linkedin', 'MICROSOFT', 'Oracle', 'Telegram']\n"
     ]
    }
   ],
   "source": [
    "print(it_companies)\n",
    "it_companies.sort() # Alphabetical arragement\n",
    "print('Th sorted IT companies list is ',it_companies)"
   ]
  },
  {
   "cell_type": "markdown",
   "metadata": {},
   "source": [
    "Q17 Sorting the list in decending order"
   ]
  },
  {
   "cell_type": "code",
   "execution_count": null,
   "metadata": {},
   "outputs": [
    {
     "name": "stdout",
     "output_type": "stream",
     "text": [
      "['Facebook', 'Huawei', 'MICROSOFT', 'Apple', 'IBM', 'Oracle', 'Amazon']\n",
      "Sorted IT companies in reverse order  ['Oracle', 'MICROSOFT', 'IBM', 'Huawei', 'Facebook', 'Apple', 'Amazon']\n"
     ]
    }
   ],
   "source": [
    "print(it_companies)\n",
    "it_companies.sort(reverse=True) # sorted in reverse alphabetical order\n",
    "print('Sorted IT companies in reverse order ',it_companies)"
   ]
  },
  {
   "cell_type": "markdown",
   "metadata": {},
   "source": [
    "Q18 Slicing first three IT companies "
   ]
  },
  {
   "cell_type": "code",
   "execution_count": null,
   "metadata": {},
   "outputs": [
    {
     "name": "stdout",
     "output_type": "stream",
     "text": [
      "['Oracle', 'MICROSOFT', 'IBM', 'Huawei', 'Facebook', 'Apple', 'Amazon']\n",
      "First 3 IT compnaies are  ['Oracle', 'MICROSOFT', 'IBM']\n"
     ]
    }
   ],
   "source": [
    "print(it_companies)\n",
    "First_3 = it_companies[:3]\n",
    "print('First 3 IT compnaies are ',First_3)"
   ]
  },
  {
   "cell_type": "markdown",
   "metadata": {},
   "source": [
    "Q19 Slicing last 3 elements"
   ]
  },
  {
   "cell_type": "code",
   "execution_count": null,
   "metadata": {},
   "outputs": [
    {
     "name": "stdout",
     "output_type": "stream",
     "text": [
      "['Oracle', 'MICROSOFT', 'IBM', 'Huawei', 'Facebook', 'Apple', 'Amazon']\n",
      "Last 3 IT compnaies are  ['Facebook', 'Apple', 'Amazon']\n"
     ]
    }
   ],
   "source": [
    "print(it_companies)\n",
    "Last_3 = it_companies[-3:]\n",
    "print('Last 3 IT compnaies are ',Last_3)"
   ]
  },
  {
   "cell_type": "markdown",
   "metadata": {},
   "source": [
    "Q20 slicing the middle element"
   ]
  },
  {
   "cell_type": "code",
   "execution_count": null,
   "metadata": {},
   "outputs": [
    {
     "name": "stdout",
     "output_type": "stream",
     "text": [
      "['Oracle', 'MICROSOFT', 'IBM', 'Huawei', 'Facebook', 'Apple', 'Amazon']\n",
      "Middle IT compnaies are  ['Facebook']\n"
     ]
    }
   ],
   "source": [
    "print(it_companies)\n",
    "Middle_Element = it_companies[4:5]\n",
    "print('Middle IT compnaies are ',Middle_Element)"
   ]
  },
  {
   "cell_type": "markdown",
   "metadata": {},
   "source": [
    "Q 21 removing the first item from the list"
   ]
  },
  {
   "cell_type": "code",
   "execution_count": null,
   "metadata": {},
   "outputs": [
    {
     "name": "stdout",
     "output_type": "stream",
     "text": [
      "['Amazon', 'Apple', 'Facebook', 'Huawei', 'IBM', 'Linkedin', 'MICROSOFT', 'Oracle', 'Telegram']\n",
      "IT compnaies are  ['Apple', 'Facebook', 'Huawei', 'IBM', 'Linkedin', 'MICROSOFT', 'Oracle', 'Telegram']\n"
     ]
    }
   ],
   "source": [
    "print(it_companies)\n",
    "it_companies.pop(0)\n",
    "print('IT compnaies are ',it_companies)"
   ]
  },
  {
   "cell_type": "markdown",
   "metadata": {},
   "source": [
    "Q 22 removing the middle item from the list "
   ]
  },
  {
   "cell_type": "code",
   "execution_count": null,
   "metadata": {},
   "outputs": [
    {
     "name": "stdout",
     "output_type": "stream",
     "text": [
      "['Apple', 'Facebook', 'Huawei', 'IBM', 'Linkedin', 'MICROSOFT', 'Oracle', 'Telegram']\n",
      "IT compnaies are  ['Apple', 'Facebook', 'Huawei', 'Linkedin', 'MICROSOFT', 'Oracle', 'Telegram']\n"
     ]
    }
   ],
   "source": [
    "print(it_companies)\n",
    "it_companies.pop(3)\n",
    "print('IT compnaies are ',it_companies)"
   ]
  },
  {
   "cell_type": "markdown",
   "metadata": {},
   "source": [
    "Q 23 remove the last item"
   ]
  },
  {
   "cell_type": "code",
   "execution_count": null,
   "metadata": {},
   "outputs": [
    {
     "name": "stdout",
     "output_type": "stream",
     "text": [
      "['Apple', 'Facebook', 'Huawei', 'Linkedin', 'MICROSOFT', 'Oracle', 'Telegram']\n",
      "['Apple', 'Facebook', 'Huawei', 'Linkedin', 'MICROSOFT', 'Oracle']\n"
     ]
    }
   ],
   "source": [
    "print(it_companies)\n",
    "it_companies.pop(-1)\n",
    "print(it_companies)"
   ]
  },
  {
   "cell_type": "markdown",
   "metadata": {},
   "source": [
    "Q 24 removing all items from the list"
   ]
  },
  {
   "cell_type": "code",
   "execution_count": null,
   "metadata": {},
   "outputs": [
    {
     "name": "stdout",
     "output_type": "stream",
     "text": [
      "['Facebook', 'Huawei', 'MICROSOFT']\n",
      "['Facebook', 'Huawei']\n",
      "['Facebook']\n",
      "[]\n"
     ]
    },
    {
     "ename": "IndexError",
     "evalue": "pop from empty list",
     "output_type": "error",
     "traceback": [
      "\u001b[1;31m---------------------------------------------------------------------------\u001b[0m",
      "\u001b[1;31mIndexError\u001b[0m                                Traceback (most recent call last)",
      "Cell \u001b[1;32mIn[98], line 8\u001b[0m\n\u001b[0;32m      6\u001b[0m it_companies\u001b[38;5;241m.\u001b[39mpop()\n\u001b[0;32m      7\u001b[0m \u001b[38;5;28mprint\u001b[39m(it_companies)\n\u001b[1;32m----> 8\u001b[0m \u001b[43mit_companies\u001b[49m\u001b[38;5;241;43m.\u001b[39;49m\u001b[43mpop\u001b[49m\u001b[43m(\u001b[49m\u001b[43m)\u001b[49m\n\u001b[0;32m      9\u001b[0m \u001b[38;5;28mprint\u001b[39m(it_companies)\n\u001b[0;32m     10\u001b[0m it_companies\u001b[38;5;241m.\u001b[39mpop()\n",
      "\u001b[1;31mIndexError\u001b[0m: pop from empty list"
     ]
    }
   ],
   "source": [
    "print(it_companies)\n",
    "it_companies.pop()\n",
    "print(it_companies)\n",
    "it_companies.pop()\n",
    "print(it_companies)\n",
    "it_companies.pop()\n",
    "print(it_companies)\n",
    "it_companies.pop()\n",
    "print(it_companies)\n",
    "it_companies.pop()\n",
    "print(it_companies)\n",
    "it_companies.pop()\n",
    "print(it_companies)\n",
    "it_companies.pop()\n",
    "print(it_companies)\n",
    "it_companies.pop()\n",
    "print(it_companies)"
   ]
  },
  {
   "cell_type": "markdown",
   "metadata": {},
   "source": [
    "Q25 The IT list can be destory by using the del function"
   ]
  },
  {
   "cell_type": "code",
   "execution_count": null,
   "metadata": {},
   "outputs": [
    {
     "ename": "NameError",
     "evalue": "name 'it_companies' is not defined",
     "output_type": "error",
     "traceback": [
      "\u001b[1;31m---------------------------------------------------------------------------\u001b[0m",
      "\u001b[1;31mNameError\u001b[0m                                 Traceback (most recent call last)",
      "Cell \u001b[1;32mIn[405], line 2\u001b[0m\n\u001b[0;32m      1\u001b[0m \u001b[38;5;28;01mdel\u001b[39;00m it_companies  \u001b[38;5;66;03m# will delete the list\u001b[39;00m\n\u001b[1;32m----> 2\u001b[0m \u001b[38;5;28mprint\u001b[39m(\u001b[43mit_companies\u001b[49m) \u001b[38;5;66;03m#it will give an error because the list has been deleted\u001b[39;00m\n",
      "\u001b[1;31mNameError\u001b[0m: name 'it_companies' is not defined"
     ]
    }
   ],
   "source": [
    "del it_companies  # will delete the list\n",
    "print(it_companies) #it will give an error because the list has been deleted"
   ]
  },
  {
   "cell_type": "markdown",
   "metadata": {},
   "source": [
    "Q 26 Joining a list "
   ]
  },
  {
   "cell_type": "code",
   "execution_count": null,
   "metadata": {},
   "outputs": [
    {
     "name": "stdout",
     "output_type": "stream",
     "text": [
      "['HTML', 'CSS', 'JS', 'React', 'Redux']\n",
      "['Node', 'Express', 'MongoDB']\n",
      "['HTML', 'CSS', 'JS', 'React', 'Redux', 'Node', 'Express', 'MongoDB']\n"
     ]
    }
   ],
   "source": [
    "front_end = ['HTML', 'CSS', 'JS', 'React', 'Redux']\n",
    "back_end = ['Node','Express', 'MongoDB']\n",
    "\n",
    "full_stack = front_end + back_end\n",
    "\n",
    "print(front_end)\n",
    "print(back_end)\n",
    "print(full_stack)"
   ]
  },
  {
   "cell_type": "markdown",
   "metadata": {},
   "source": [
    "Q27 adding Python and SQL to full stack"
   ]
  },
  {
   "cell_type": "code",
   "execution_count": null,
   "metadata": {},
   "outputs": [
    {
     "name": "stdout",
     "output_type": "stream",
     "text": [
      "['HTML', 'CSS', 'JS', 'React', 'Redux', 'Node', 'Express', 'MongoDB']\n",
      "['HTML', 'CSS', 'JS', 'React', 'Redux', 'Python', 'Node', 'Express', 'MongoDB']\n",
      "['HTML', 'CSS', 'JS', 'React', 'Redux', 'Python', 'SQL', 'Node', 'Express', 'MongoDB']\n"
     ]
    }
   ],
   "source": [
    "print(full_stack)\n",
    "full_stack.insert(5,'Python')\n",
    "#full_stack.remove('Python')\n",
    "print(full_stack)\n",
    "full_stack.insert(6,'SQL')\n",
    "#full_stack.remove('SQL')\n",
    "print(full_stack)"
   ]
  },
  {
   "cell_type": "markdown",
   "metadata": {},
   "source": [
    "# Excercise Level 2"
   ]
  },
  {
   "cell_type": "markdown",
   "metadata": {},
   "source": [
    "Q 1 "
   ]
  },
  {
   "cell_type": "code",
   "execution_count": null,
   "metadata": {},
   "outputs": [
    {
     "name": "stdout",
     "output_type": "stream",
     "text": [
      "[19, 22, 19, 24, 20, 25, 26, 24, 25, 24]\n"
     ]
    }
   ],
   "source": [
    "ages = [19, 22, 19, 24, 20, 25, 26, 24, 25, 24]\n",
    "print(ages)"
   ]
  },
  {
   "cell_type": "markdown",
   "metadata": {},
   "source": [
    "sorting the list"
   ]
  },
  {
   "cell_type": "code",
   "execution_count": null,
   "metadata": {},
   "outputs": [
    {
     "name": "stdout",
     "output_type": "stream",
     "text": [
      "[19, 19, 20, 22, 24, 24, 24, 25, 25, 26]\n"
     ]
    }
   ],
   "source": [
    "ages.sort()\n",
    "print(ages)\n"
   ]
  },
  {
   "cell_type": "markdown",
   "metadata": {},
   "source": [
    "Finding the max and min"
   ]
  },
  {
   "cell_type": "code",
   "execution_count": null,
   "metadata": {},
   "outputs": [
    {
     "name": "stdout",
     "output_type": "stream",
     "text": [
      "The maximum ages = 26\n",
      "The minimum ages = 19\n",
      "Sum of the min and max age =  45\n"
     ]
    }
   ],
   "source": [
    "ages_max = max(ages)\n",
    "ages_min = min(ages)\n",
    "\n",
    "\n",
    "print('The maximum ages =',ages_max)\n",
    "print('The minimum ages =',ages_min)\n"
   ]
  },
  {
   "cell_type": "markdown",
   "metadata": {},
   "source": [
    "adding the min age and max age to the list"
   ]
  },
  {
   "cell_type": "code",
   "execution_count": null,
   "metadata": {},
   "outputs": [
    {
     "name": "stdout",
     "output_type": "stream",
     "text": [
      "[19, 19, 20, 22, 24, 24, 24, 25, 25, 26]\n",
      "[19, 19, 20, 22, 24, 24, 24, 25, 25, 26, 19, 26]\n"
     ]
    }
   ],
   "source": [
    "print(ages)\n",
    "ages.append(ages_min)\n",
    "ages.append(ages_max)\n",
    "print(ages)"
   ]
  },
  {
   "cell_type": "markdown",
   "metadata": {},
   "source": [
    "Finding median of the list"
   ]
  },
  {
   "cell_type": "code",
   "execution_count": null,
   "metadata": {},
   "outputs": [
    {
     "name": "stdout",
     "output_type": "stream",
     "text": [
      "[19, 19, 20, 22, 24, 24, 24, 25, 25, 26]\n",
      "The median age = 24.0\n"
     ]
    }
   ],
   "source": [
    "import statistics\n",
    "print(ages)\n",
    "ages_median = statistics.median(ages)\n",
    "print('The median age =',ages_median)\n"
   ]
  },
  {
   "cell_type": "markdown",
   "metadata": {},
   "source": [
    "Finding average of the list"
   ]
  },
  {
   "cell_type": "code",
   "execution_count": null,
   "metadata": {},
   "outputs": [
    {
     "name": "stdout",
     "output_type": "stream",
     "text": [
      "[19, 19, 20, 22, 24, 24, 24, 25, 25, 26]\n",
      "The mean age = 22.8\n"
     ]
    }
   ],
   "source": [
    "print(ages)\n",
    "ages_average = statistics.mean(ages)\n",
    "print('The mean age =',ages_average)"
   ]
  },
  {
   "cell_type": "markdown",
   "metadata": {},
   "source": [
    "Find the range of the ages"
   ]
  },
  {
   "cell_type": "code",
   "execution_count": null,
   "metadata": {},
   "outputs": [
    {
     "name": "stdout",
     "output_type": "stream",
     "text": [
      "[19, 19, 20, 22, 24, 24, 24, 25, 25, 26]\n",
      "The range of the ages = 7\n"
     ]
    }
   ],
   "source": [
    "print(ages)\n",
    "ages_range = ages_max - ages_min\n",
    "print('The range of the ages =', ages_range)"
   ]
  },
  {
   "cell_type": "markdown",
   "metadata": {},
   "source": [
    "Comparison (min - average) and (max - average),"
   ]
  },
  {
   "cell_type": "code",
   "execution_count": null,
   "metadata": {},
   "outputs": [
    {
     "name": "stdout",
     "output_type": "stream",
     "text": [
      "The absolute difference between min and average = 3.8000000000000007\n",
      "The absolute difference between max and average = 3.1999999999999993\n"
     ]
    }
   ],
   "source": [
    "ages_min_ave = abs(ages_min - ages_average)\n",
    "print('The absolute difference between min and average =',ages_min_ave)\n",
    "ages_max_ave = abs(ages_max - ages_average)\n",
    "print('The absolute difference between max and average =',ages_max_ave)"
   ]
  },
  {
   "cell_type": "markdown",
   "metadata": {},
   "source": [
    "Next is to make the comparison"
   ]
  },
  {
   "cell_type": "code",
   "execution_count": null,
   "metadata": {},
   "outputs": [
    {
     "name": "stdout",
     "output_type": "stream",
     "text": [
      "For equal than it is = False\n",
      "For greater than it is = True\n",
      "For less than it is = False\n",
      "For less than or equal it is = False\n",
      "For greater than or equal it is = True\n",
      "For not equal it is = True\n"
     ]
    }
   ],
   "source": [
    "equal = abs(ages_min_ave) == abs(ages_max_ave)\n",
    "print('For equal than it is =',equal)\n",
    "\n",
    "greater_than = abs(ages_min_ave) > abs(ages_max_ave)\n",
    "print('For greater than it is =',greater_than)\n",
    "\n",
    "less_than = abs(ages_min_ave) < abs(ages_max_ave)\n",
    "print('For less than it is =',less_than)\n",
    "\n",
    "less_than_equal = abs(ages_min_ave) <= abs(ages_max_ave)\n",
    "print('For less than or equal it is =',less_than_equal)\n",
    "\n",
    "greater_than_equal = abs(ages_min_ave) >= abs(ages_max_ave)\n",
    "print('For greater than or equal it is =',greater_than_equal)\n",
    "\n",
    "not_equal = abs(ages_min_ave) != abs(ages_max_ave)\n",
    "print('For not equal it is =',not_equal)"
   ]
  },
  {
   "cell_type": "code",
   "execution_count": null,
   "metadata": {},
   "outputs": [
    {
     "name": "stdout",
     "output_type": "stream",
     "text": [
      "['Afghanistan', 'Albania', 'Algeria', 'Andorra', 'Angola', 'Antigua and Barbuda', 'Argentina', 'Armenia', 'Australia', 'Austria', 'Azerbaijan', 'Bahamas', 'Bahrain', 'Bangladesh', 'Barbados', 'Belarus', 'Belgium', 'Belize', 'Benin', 'Bhutan', 'Bolivia', 'Bosnia and Herzegovina', 'Botswana', 'Brazil', 'Brunei', 'Bulgaria', 'Burkina Faso', 'Burundi', 'Cambodia', 'Cameroon', 'Canada', 'Cape Verde', 'Central African Republic', 'Chad', 'Chile', 'China', 'Colombi', 'Comoros', 'Congo (Brazzaville)', 'Congo', 'Costa Rica', \"Cote d'Ivoire\", 'Croatia', 'Cuba', 'Cyprus', 'Czech Republic', 'Denmark', 'Djibouti', 'Dominica', 'Dominican Republic', 'East Timor (Timor Timur)', 'Ecuador', 'Egypt', 'El Salvador', 'Equatorial Guinea', 'Eritrea', 'Estonia', 'Ethiopia', 'Fiji', 'Finland', 'France', 'Gabon', 'Gambia, The', 'Georgia', 'Germany', 'Ghana', 'Greece', 'Grenada', 'Guatemala', 'Guinea', 'Guinea-Bissau', 'Guyana', 'Haiti', 'Honduras', 'Hungary', 'Iceland', 'India', 'Indonesia', 'Iran', 'Iraq', 'Ireland', 'Israel', 'Italy', 'Jamaica', 'Japan', 'Jordan', 'Kazakhstan', 'Kenya', 'Kiribati', 'Korea, North', 'Korea, South', 'Kuwait', 'Kyrgyzstan', 'Laos', 'Latvia', 'Lebanon', 'Lesotho', 'Liberia', 'Libya', 'Liechtenstein', 'Lithuania', 'Luxembourg', 'Macedonia', 'Madagascar', 'Malawi', 'Malaysia', 'Maldives', 'Mali', 'Malta', 'Marshall Islands', 'Mauritania', 'Mauritius', 'Mexico', 'Micronesia', 'Moldova', 'Monaco', 'Mongolia', 'Morocco', 'Mozambique', 'Myanmar', 'Namibia', 'Nauru', 'Nepal', 'Netherlands', 'New Zealand', 'Nicaragua', 'Niger', 'Nigeria', 'Norway', 'Oman', 'Pakistan', 'Palau', 'Panama', 'Papua New Guinea', 'Paraguay', 'Peru', 'Philippines', 'Poland', 'Portugal', 'Qatar', 'Romania', 'Russia', 'Rwanda', 'Saint Kitts and Nevis', 'Saint Lucia', 'Saint Vincent', 'Samoa', 'San Marino', 'Sao Tome and Principe', 'Saudi Arabia', 'Senegal', 'Serbia and Montenegro', 'Seychelles', 'Sierra Leone', 'Singapore', 'Slovakia', 'Slovenia', 'Solomon Islands', 'Somalia', 'South Africa', 'Spain', 'Sri Lanka', 'Sudan', 'Suriname', 'Swaziland', 'Sweden', 'Switzerland', 'Syria', 'Taiwan', 'Tajikistan', 'Tanzania', 'Thailand', 'Togo', 'Tonga', 'Trinidad and Tobago', 'Tunisia', 'Turkey', 'Turkmenistan', 'Tuvalu', 'Uganda', 'Ukraine', 'United Arab Emirates', 'United Kingdom', 'United States', 'Uruguay', 'Uzbekistan', 'Vanuatu', 'Vatican City', 'Venezuela', 'Vietnam', 'Yemen', 'Zambia', 'Zimbabwe']\n"
     ]
    }
   ],
   "source": [
    "countries = [\n",
    "  'Afghanistan',\n",
    "  'Albania',\n",
    "  'Algeria',\n",
    "  'Andorra',\n",
    "  'Angola',\n",
    "  'Antigua and Barbuda',\n",
    "  'Argentina',\n",
    "  'Armenia',\n",
    "  'Australia',\n",
    "  'Austria',\n",
    "  'Azerbaijan',\n",
    "  'Bahamas',\n",
    "  'Bahrain',\n",
    "  'Bangladesh',\n",
    "  'Barbados',\n",
    "  'Belarus',\n",
    "  'Belgium',\n",
    "  'Belize',\n",
    "  'Benin',\n",
    "  'Bhutan',\n",
    "  'Bolivia',\n",
    "  'Bosnia and Herzegovina',\n",
    "  'Botswana',\n",
    "  'Brazil',\n",
    "  'Brunei',\n",
    "  'Bulgaria',\n",
    "  'Burkina Faso',\n",
    "  'Burundi',\n",
    "  'Cambodia',\n",
    "  'Cameroon',\n",
    "  'Canada',\n",
    "  'Cape Verde',\n",
    "  'Central African Republic',\n",
    "  'Chad',\n",
    "  'Chile',\n",
    "  'China',\n",
    "  'Colombi',\n",
    "  'Comoros',\n",
    "  'Congo (Brazzaville)',\n",
    "  'Congo',\n",
    "  'Costa Rica',\n",
    "  \"Cote d'Ivoire\",\n",
    "  'Croatia',\n",
    "  'Cuba',\n",
    "  'Cyprus',\n",
    "  'Czech Republic',\n",
    "  'Denmark',\n",
    "  'Djibouti',\n",
    "  'Dominica',\n",
    "  'Dominican Republic',\n",
    "  'East Timor (Timor Timur)',\n",
    "  'Ecuador',\n",
    "  'Egypt',\n",
    "  'El Salvador',\n",
    "  'Equatorial Guinea',\n",
    "  'Eritrea',\n",
    "  'Estonia',\n",
    "  'Ethiopia',\n",
    "  'Fiji',\n",
    "  'Finland',\n",
    "  'France',\n",
    "  'Gabon',\n",
    "  'Gambia, The',\n",
    "  'Georgia',\n",
    "  'Germany',\n",
    "  'Ghana',\n",
    "  'Greece',\n",
    "  'Grenada',\n",
    "  'Guatemala',\n",
    "  'Guinea',\n",
    "  'Guinea-Bissau',\n",
    "  'Guyana',\n",
    "  'Haiti',\n",
    "  'Honduras',\n",
    "  'Hungary',\n",
    "  'Iceland',\n",
    "  'India',\n",
    "  'Indonesia',\n",
    "  'Iran',\n",
    "  'Iraq',\n",
    "  'Ireland',\n",
    "  'Israel',\n",
    "  'Italy',\n",
    "  'Jamaica',\n",
    "  'Japan',\n",
    "  'Jordan',\n",
    "  'Kazakhstan',\n",
    "  'Kenya',\n",
    "  'Kiribati',\n",
    "  'Korea, North',\n",
    "  'Korea, South',\n",
    "  'Kuwait',\n",
    "  'Kyrgyzstan',\n",
    "  'Laos',\n",
    "  'Latvia',\n",
    "  'Lebanon',\n",
    "  'Lesotho',\n",
    "  'Liberia',\n",
    "  'Libya',\n",
    "  'Liechtenstein',\n",
    "  'Lithuania',\n",
    "  'Luxembourg',\n",
    "  'Macedonia',\n",
    "  'Madagascar',\n",
    "  'Malawi',\n",
    "  'Malaysia',\n",
    "  'Maldives',\n",
    "  'Mali',\n",
    "  'Malta',\n",
    "  'Marshall Islands',\n",
    "  'Mauritania',\n",
    "  'Mauritius',\n",
    "  'Mexico',\n",
    "  'Micronesia',\n",
    "  'Moldova',\n",
    "  'Monaco',\n",
    "  'Mongolia',\n",
    "  'Morocco',\n",
    "  'Mozambique',\n",
    "  'Myanmar',\n",
    "  'Namibia',\n",
    "  'Nauru',\n",
    "  'Nepal',\n",
    "  'Netherlands',\n",
    "  'New Zealand',\n",
    "  'Nicaragua',\n",
    "  'Niger',\n",
    "  'Nigeria',\n",
    "  'Norway',\n",
    "  'Oman',\n",
    "  'Pakistan',\n",
    "  'Palau',\n",
    "  'Panama',\n",
    "  'Papua New Guinea',\n",
    "  'Paraguay',\n",
    "  'Peru',\n",
    "  'Philippines',\n",
    "  'Poland',\n",
    "  'Portugal',\n",
    "  'Qatar',\n",
    "  'Romania',\n",
    "  'Russia',\n",
    "  'Rwanda',\n",
    "  'Saint Kitts and Nevis',\n",
    "  'Saint Lucia',\n",
    "  'Saint Vincent',\n",
    "  'Samoa',\n",
    "  'San Marino',\n",
    "  'Sao Tome and Principe',\n",
    "  'Saudi Arabia',\n",
    "  'Senegal',\n",
    "  'Serbia and Montenegro',\n",
    "  'Seychelles',\n",
    "  'Sierra Leone',\n",
    "  'Singapore',\n",
    "  'Slovakia',\n",
    "  'Slovenia',\n",
    "  'Solomon Islands',\n",
    "  'Somalia',\n",
    "  'South Africa',\n",
    "  'Spain',\n",
    "  'Sri Lanka',\n",
    "  'Sudan',\n",
    "  'Suriname',\n",
    "  'Swaziland',\n",
    "  'Sweden',\n",
    "  'Switzerland',\n",
    "  'Syria',\n",
    "  'Taiwan',\n",
    "  'Tajikistan',\n",
    "  'Tanzania',\n",
    "  'Thailand',\n",
    "  'Togo',\n",
    "  'Tonga',\n",
    "  'Trinidad and Tobago',\n",
    "  'Tunisia',\n",
    "  'Turkey',\n",
    "  'Turkmenistan',\n",
    "  'Tuvalu',\n",
    "  'Uganda',\n",
    "  'Ukraine',\n",
    "  'United Arab Emirates',\n",
    "  'United Kingdom',\n",
    "  'United States',\n",
    "  'Uruguay',\n",
    "  'Uzbekistan',\n",
    "  'Vanuatu',\n",
    "  'Vatican City',\n",
    "  'Venezuela',\n",
    "  'Vietnam',\n",
    "  'Yemen',\n",
    "  'Zambia',\n",
    "  'Zimbabwe',\n",
    "]\n",
    "print(countries)"
   ]
  },
  {
   "cell_type": "code",
   "execution_count": null,
   "metadata": {},
   "outputs": [
    {
     "name": "stdout",
     "output_type": "stream",
     "text": [
      "The total number of the countries =  193\n"
     ]
    }
   ],
   "source": [
    "countries_Lenght = len(countries)\n",
    "print('The total number of the countries = ',countries_Lenght)"
   ]
  },
  {
   "cell_type": "markdown",
   "metadata": {},
   "source": [
    "### lets find the middle element (country) "
   ]
  },
  {
   "cell_type": "code",
   "execution_count": null,
   "metadata": {},
   "outputs": [
    {
     "name": "stdout",
     "output_type": "stream",
     "text": [
      "The country at the middle =  ['Lebanon']\n"
     ]
    }
   ],
   "source": [
    "middle_Element = countries[countries_Lenght//2 -1:countries_Lenght//2]\n",
    "print('The country at the middle = ',middle_Element)"
   ]
  },
  {
   "cell_type": "markdown",
   "metadata": {},
   "source": [
    "Dividing the country in to two equal part"
   ]
  },
  {
   "cell_type": "code",
   "execution_count": null,
   "metadata": {},
   "outputs": [
    {
     "name": "stdout",
     "output_type": "stream",
     "text": [
      "First list = ['Afghanistan', 'Albania', 'Algeria', 'Andorra', 'Angola', 'Antigua and Barbuda', 'Argentina', 'Armenia', 'Australia', 'Austria', 'Azerbaijan', 'Bahamas', 'Bahrain', 'Bangladesh', 'Barbados', 'Belarus', 'Belgium', 'Belize', 'Benin', 'Bhutan', 'Bolivia', 'Bosnia and Herzegovina', 'Botswana', 'Brazil', 'Brunei', 'Bulgaria', 'Burkina Faso', 'Burundi', 'Cambodia', 'Cameroon', 'Canada', 'Cape Verde', 'Central African Republic', 'Chad', 'Chile', 'China', 'Colombi', 'Comoros', 'Congo (Brazzaville)', 'Congo', 'Costa Rica', \"Cote d'Ivoire\", 'Croatia', 'Cuba', 'Cyprus', 'Czech Republic', 'Denmark', 'Djibouti', 'Dominica', 'Dominican Republic', 'East Timor (Timor Timur)', 'Ecuador', 'Egypt', 'El Salvador', 'Equatorial Guinea', 'Eritrea', 'Estonia', 'Ethiopia', 'Fiji', 'Finland', 'France', 'Gabon', 'Gambia, The', 'Georgia', 'Germany', 'Ghana', 'Greece', 'Grenada', 'Guatemala', 'Guinea', 'Guinea-Bissau', 'Guyana', 'Haiti', 'Honduras', 'Hungary', 'Iceland', 'India', 'Indonesia', 'Iran', 'Iraq', 'Ireland', 'Israel', 'Italy', 'Jamaica', 'Japan', 'Jordan', 'Kazakhstan', 'Kenya', 'Kiribati', 'Korea, North', 'Korea, South', 'Kuwait', 'Kyrgyzstan', 'Laos', 'Latvia', 'Lebanon', 'Lesotho']\n",
      "Number of countries in the First list = 97\n",
      "Second list = ['Liberia', 'Libya', 'Liechtenstein', 'Lithuania', 'Luxembourg', 'Macedonia', 'Madagascar', 'Malawi', 'Malaysia', 'Maldives', 'Mali', 'Malta', 'Marshall Islands', 'Mauritania', 'Mauritius', 'Mexico', 'Micronesia', 'Moldova', 'Monaco', 'Mongolia', 'Morocco', 'Mozambique', 'Myanmar', 'Namibia', 'Nauru', 'Nepal', 'Netherlands', 'New Zealand', 'Nicaragua', 'Niger', 'Nigeria', 'Norway', 'Oman', 'Pakistan', 'Palau', 'Panama', 'Papua New Guinea', 'Paraguay', 'Peru', 'Philippines', 'Poland', 'Portugal', 'Qatar', 'Romania', 'Russia', 'Rwanda', 'Saint Kitts and Nevis', 'Saint Lucia', 'Saint Vincent', 'Samoa', 'San Marino', 'Sao Tome and Principe', 'Saudi Arabia', 'Senegal', 'Serbia and Montenegro', 'Seychelles', 'Sierra Leone', 'Singapore', 'Slovakia', 'Slovenia', 'Solomon Islands', 'Somalia', 'South Africa', 'Spain', 'Sri Lanka', 'Sudan', 'Suriname', 'Swaziland', 'Sweden', 'Switzerland', 'Syria', 'Taiwan', 'Tajikistan', 'Tanzania', 'Thailand', 'Togo', 'Tonga', 'Trinidad and Tobago', 'Tunisia', 'Turkey', 'Turkmenistan', 'Tuvalu', 'Uganda', 'Ukraine', 'United Arab Emirates', 'United Kingdom', 'United States', 'Uruguay', 'Uzbekistan', 'Vanuatu', 'Vatican City', 'Venezuela', 'Vietnam', 'Yemen', 'Zambia', 'Zimbabwe']\n",
      "Number of countries in the second list = 96\n"
     ]
    }
   ],
   "source": [
    "First_list = countries[:(countries_Lenght//2)+1]\n",
    "print('First list =',First_list)\n",
    "print('Number of countries in the First list =',len(First_list))\n",
    "\n",
    "second_list = countries[(countries_Lenght//2)+1 :]\n",
    "print('Second list =',second_list)\n",
    "print('Number of countries in the second list =',len(second_list))\n"
   ]
  },
  {
   "cell_type": "markdown",
   "metadata": {},
   "source": [
    "Using unpacking procedures to unpack the countries"
   ]
  },
  {
   "cell_type": "code",
   "execution_count": null,
   "metadata": {},
   "outputs": [
    {
     "name": "stdout",
     "output_type": "stream",
     "text": [
      "The first nation is  China\n",
      "The second nation is  Russia\n",
      "The third nation is  USA\n",
      "The scandinavian countries = ['Finland', 'Sweden', 'Norway', 'Denmark']\n"
     ]
    }
   ],
   "source": [
    "nations = ['China', 'Russia', 'USA', 'Finland', 'Sweden', 'Norway', 'Denmark']\n",
    "\n",
    "first_nation, second_nation, third_nation, *rest = nations\n",
    "\n",
    "print('The first nation is ',first_nation)\n",
    "print('The second nation is ',second_nation)\n",
    "print('The third nation is ',third_nation)\n",
    "print('The scandinavian countries are: ',rest)"
   ]
  }
 ],
 "metadata": {
  "kernelspec": {
   "display_name": "Python 3",
   "language": "python",
   "name": "python3"
  },
  "language_info": {
   "codemirror_mode": {
    "name": "ipython",
    "version": 3
   },
   "file_extension": ".py",
   "mimetype": "text/x-python",
   "name": "python",
   "nbconvert_exporter": "python",
   "pygments_lexer": "ipython3",
   "version": "3.13.0"
  }
 },
 "nbformat": 4,
 "nbformat_minor": 2
}
