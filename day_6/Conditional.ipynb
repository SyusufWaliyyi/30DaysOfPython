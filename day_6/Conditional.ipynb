{
 "cells": [
  {
   "cell_type": "markdown",
   "metadata": {},
   "source": [
    "# Exercises: Level 1"
   ]
  },
  {
   "cell_type": "markdown",
   "metadata": {},
   "source": [
    "Q1:"
   ]
  },
  {
   "cell_type": "code",
   "execution_count": 1,
   "metadata": {},
   "outputs": [
    {
     "name": "stdout",
     "output_type": "stream",
     "text": [
      "You are 34 years old and you are old enough to drive\n"
     ]
    }
   ],
   "source": [
    "age = int(input('Enter your age: '))\n",
    "if age >= 18:\n",
    "    print(f'You are {age} years old and you are old enough to drive')\n",
    "else:\n",
    "    print(f'You are {age} years old and you need {18 - age} more years old to drive')\n"
   ]
  },
  {
   "cell_type": "code",
   "execution_count": 2,
   "metadata": {},
   "outputs": [
    {
     "name": "stdout",
     "output_type": "stream",
     "text": [
      "You are 34 years old and you need -16 more years old to drive\n"
     ]
    }
   ],
   "source": [
    "AGE = int(input('Enter your age: '))\n",
    "if AGE == 18:\n",
    "    print(f'You are {AGE} years old and you areold enough to drive')\n",
    "else:\n",
    "    print(f'You are {AGE} years old and you need {18 - AGE} more years old to drive')"
   ]
  },
  {
   "cell_type": "markdown",
   "metadata": {},
   "source": [
    "Q2"
   ]
  },
  {
   "cell_type": "code",
   "execution_count": 3,
   "metadata": {},
   "outputs": [
    {
     "name": "stdout",
     "output_type": "stream",
     "text": [
      "You are 9 years older than me\n"
     ]
    }
   ],
   "source": [
    "age1 = int(input('Enter your age: '))\n",
    "if age1 > 25:\n",
    "    if age1 - 25 == 1:\n",
    "        print(f'You are {age1 - 25} year older than me')\n",
    "    elif age1 - 25 >= 2:\n",
    "            print(f'You are {age1 - 25} years older than me')\n",
    "elif age1 == 25:\n",
    "    print('You are the same age as me')\n",
    "else:\n",
    "    print(f'You are {age1} years old and you are {25 - age1} younger than me')"
   ]
  },
  {
   "cell_type": "markdown",
   "metadata": {},
   "source": [
    "Q3:"
   ]
  },
  {
   "cell_type": "code",
   "execution_count": 4,
   "metadata": {},
   "outputs": [
    {
     "name": "stdout",
     "output_type": "stream",
     "text": [
      "56 is greater than 45\n"
     ]
    }
   ],
   "source": [
    "a = input('Enter number one:')\n",
    "b = input('Enter number two:')\n",
    "if a > b:\n",
    "    print(f'{a} is greater than {b}')\n",
    "elif b > a:\n",
    "    print(f'{a} is less than {b}')\n",
    "else:\n",
    "    print('Numbers are equal')\n"
   ]
  },
  {
   "cell_type": "markdown",
   "metadata": {},
   "source": [
    "# Exercises: Level 2"
   ]
  },
  {
   "cell_type": "markdown",
   "metadata": {},
   "source": [
    "Q1: Write a code which gives grade to students according to theirs scores\n",
    "\n",
    "|Marks       |Grade |\n",
    "|--------------|----------|\n",
    "|=> 80          |A|\n",
    "|70 - 79          |B|\n",
    "|60 - 69          |C|\n",
    "|50 - 59          |D|\n",
    "|< 50          |F|"
   ]
  },
  {
   "cell_type": "code",
   "execution_count": 5,
   "metadata": {},
   "outputs": [
    {
     "name": "stdout",
     "output_type": "stream",
     "text": [
      "Excellent: 89 is A\n"
     ]
    }
   ],
   "source": [
    "Mark = int(input('Enter the marks of a student to grade:'))\n",
    "\n",
    "if Mark >= 80:\n",
    "    print(f'Excellent: {Mark} is A')\n",
    "elif Mark >= 70:\n",
    "    print(f'Very good: {Mark} is B')\n",
    "elif Mark >= 60:\n",
    "    print(f'Good: {Mark} is C')\n",
    "elif Mark >= 50:\n",
    "    print(f'Fair: {Mark} is D')\n",
    "else:\n",
    "    print(f' fail: {Mark} is F')"
   ]
  },
  {
   "cell_type": "markdown",
   "metadata": {},
   "source": [
    "Q2:"
   ]
  },
  {
   "cell_type": "code",
   "execution_count": 6,
   "metadata": {},
   "outputs": [
    {
     "name": "stdout",
     "output_type": "stream",
     "text": [
      "July is Summer\n"
     ]
    }
   ],
   "source": [
    "Autumn = ['September', 'October', 'November']\n",
    "Winter = ['December', 'January', 'February']\n",
    "Spring = ['March', 'April', 'May']\n",
    "Summer = ['June', 'July', 'August']\n",
    "\n",
    "month = input('Enter the name of the month: ')\n",
    "\n",
    "if month in Autumn:\n",
    "    print(f'{month} is Autumn')\n",
    "elif month in Winter:\n",
    "    print(f'{month} is Winter')\n",
    "elif month in Spring:\n",
    "    print(f'{month} is Spring')\n",
    "else:\n",
    "    print(f'{month} is Summer')"
   ]
  },
  {
   "cell_type": "markdown",
   "metadata": {},
   "source": [
    "Q3:"
   ]
  },
  {
   "cell_type": "code",
   "execution_count": 7,
   "metadata": {},
   "outputs": [
    {
     "name": "stdout",
     "output_type": "stream",
     "text": [
      "['banana', 'orange', 'mango', 'lemon']\n",
      "guava is not in the list\n",
      "['banana', 'orange', 'mango', 'lemon', 'guava']\n"
     ]
    }
   ],
   "source": [
    "fruits = ['banana', 'orange', 'mango', 'lemon']\n",
    "print(fruits)\n",
    "\n",
    "if 'guava' in fruits:\n",
    "    print('guava already exist in the list')\n",
    "else:\n",
    "    print('guava is not in the list')\n",
    "    \n",
    "fruits.append('guava')\n",
    "print(fruits)"
   ]
  },
  {
   "cell_type": "markdown",
   "metadata": {},
   "source": [
    "# __Exercises: Level 3__"
   ]
  },
  {
   "cell_type": "code",
   "execution_count": 14,
   "metadata": {},
   "outputs": [],
   "source": [
    "person={\n",
    "    'first_name': 'Asabeneh',\n",
    "    'last_name': 'Yetayeh',\n",
    "    'age': 250,\n",
    "    'country': 'Finland',\n",
    "    'is_marred': True,\n",
    "    'skills': ['JavaScript', 'React', 'Node', 'MongoDB', 'Python'],\n",
    "    'address': {\n",
    "        'street': 'Space street',\n",
    "        'zipcode': '02210'\n",
    "    }\n",
    "    }"
   ]
  },
  {
   "cell_type": "markdown",
   "metadata": {},
   "source": [
    "### __Modifications__"
   ]
  },
  {
   "cell_type": "code",
   "execution_count": 15,
   "metadata": {},
   "outputs": [
    {
     "name": "stdout",
     "output_type": "stream",
     "text": [
      "{'first_name': 'Asabeneh', 'last_name': 'Yetayeh', 'age': '25', 'country': 'Finland', 'is_marred': True, 'skills': ['JavaScript', 'React', 'Node', 'MongoDB', 'Python', 'HTML', 'CSS'], 'address': {'street': 'Space street', 'zipcode': '02210'}}\n"
     ]
    }
   ],
   "source": [
    "person['age'] = '25' # Change country to Nigeria\n",
    "person['skills'].append('HTML')  # Added HTML and CSS to the skill\n",
    "person['skills'].append('CSS')\n",
    "print(person)"
   ]
  },
  {
   "cell_type": "markdown",
   "metadata": {},
   "source": [
    "Checking for skills in the database"
   ]
  },
  {
   "cell_type": "code",
   "execution_count": 17,
   "metadata": {},
   "outputs": [
    {
     "name": "stdout",
     "output_type": "stream",
     "text": [
      "Skills exist\n"
     ]
    }
   ],
   "source": [
    "if 'skills' in person:\n",
    "    print('Skills exist')\n",
    "else:\n",
    "    print('Skills do not exist')\n"
   ]
  },
  {
   "cell_type": "markdown",
   "metadata": {},
   "source": [
    "Middle skills"
   ]
  },
  {
   "cell_type": "code",
   "execution_count": 79,
   "metadata": {},
   "outputs": [
    {
     "name": "stdout",
     "output_type": "stream",
     "text": [
      "Skills =  ['JavaScript', 'React', 'Node', 'MongoDB', 'Python', 'HTML', 'CSS']\n",
      "The length of the skills 7\n"
     ]
    }
   ],
   "source": [
    "skills = person['skills']\n",
    "print('Skills = ',skills)\n",
    "skills_Length = len(skills)\n",
    "print('The length of the skills',skills_Length)"
   ]
  },
  {
   "cell_type": "code",
   "execution_count": 80,
   "metadata": {},
   "outputs": [
    {
     "name": "stdout",
     "output_type": "stream",
     "text": [
      "Middle skills =  ['MongoDB']\n"
     ]
    }
   ],
   "source": [
    "middle_Skills = skills[skills_Length//2:skills_Length//2+1]\n",
    "print('Middle skills = ',middle_Skills)\n"
   ]
  },
  {
   "cell_type": "markdown",
   "metadata": {},
   "source": [
    "Checking for python in the skils"
   ]
  },
  {
   "cell_type": "code",
   "execution_count": 81,
   "metadata": {},
   "outputs": [
    {
     "name": "stdout",
     "output_type": "stream",
     "text": [
      "Print python does not exist\n"
     ]
    }
   ],
   "source": [
    "if 'python' in skills:\n",
    "    print('Print python exists')\n",
    "else:\n",
    "    print('Print python does not exist')"
   ]
  },
  {
   "cell_type": "markdown",
   "metadata": {},
   "source": [
    "Checking for JavaScript and React"
   ]
  },
  {
   "cell_type": "code",
   "execution_count": 82,
   "metadata": {},
   "outputs": [
    {
     "name": "stdout",
     "output_type": "stream",
     "text": [
      "He is a front end developer\n",
      "He is a backend developer\n",
      "He is a fullstack developer\n"
     ]
    }
   ],
   "source": [
    "if 'JavaScript' and 'React' in skills:\n",
    "    print('He is a front end developer')\n",
    "    if 'Node' and 'Python' and 'MongoDB':\n",
    "        print('He is a backend developer')\n",
    "        if 'React'and 'Node'and 'MongoDB' in skills: # React\n",
    "            print('He is a fullstack developer')\n",
    "else:\n",
    "    print('unknown title')       \n"
   ]
  },
  {
   "cell_type": "markdown",
   "metadata": {},
   "source": [
    "Print biodata information"
   ]
  },
  {
   "cell_type": "code",
   "execution_count": 83,
   "metadata": {},
   "outputs": [
    {
     "name": "stdout",
     "output_type": "stream",
     "text": [
      "Asabeneh Yetayeh lives Finland He is married\n"
     ]
    }
   ],
   "source": [
    "print(person['first_name'],person['last_name'], 'lives', person['country'], 'He is married')"
   ]
  }
 ],
 "metadata": {
  "kernelspec": {
   "display_name": "Python 3",
   "language": "python",
   "name": "python3"
  },
  "language_info": {
   "codemirror_mode": {
    "name": "ipython",
    "version": 3
   },
   "file_extension": ".py",
   "mimetype": "text/x-python",
   "name": "python",
   "nbconvert_exporter": "python",
   "pygments_lexer": "ipython3",
   "version": "3.13.0"
  }
 },
 "nbformat": 4,
 "nbformat_minor": 2
}
